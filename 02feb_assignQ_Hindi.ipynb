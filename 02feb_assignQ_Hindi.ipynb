{
 "cells": [
  {
   "cell_type": "code",
   "execution_count": 28,
   "metadata": {},
   "outputs": [
    {
     "name": "stdout",
     "output_type": "stream",
     "text": [
      "1\n",
      "2\n",
      "3\n",
      "4\n",
      "5\n",
      "1\n",
      "2\n",
      "3\n",
      "4\n",
      "5\n"
     ]
    }
   ],
   "source": [
    "'''\n",
    "1. explain with an example each when to use for loop and a while loop \n",
    "-> The for loop is used when we know the number of iterations,\n",
    "   that is, how many times a statement must be executed. \n",
    "   That is why, when we initialize the for loop, we must define the ending point.\n",
    "   \n",
    "   A while loop is used when the number of iterations is unknown. It is used\n",
    "   when we need to end the loop on a condition other than the number of \n",
    "   repetitions. It is not necessary to know the condition ahead of time in this\n",
    "   case. That is why we can use a boolean expression in the loop's initialization.\n",
    "'''\n",
    "#example of for loop \n",
    "# code :\n",
    "l = [1, 2, 3, 4, 5]\n",
    "for element in l:\n",
    "    print(element)\n",
    "    \n",
    "#example of while loop\n",
    "# code :\n",
    "i = 0\n",
    "while i<5:\n",
    "    print(l[i])\n",
    "    i+=1"
   ]
  },
  {
   "cell_type": "code",
   "execution_count": 5,
   "metadata": {},
   "outputs": [
    {
     "name": "stdout",
     "output_type": "stream",
     "text": [
      "sum of 10 Natural Number using for loop is :  55\n",
      "product of 10 Natural Number using for loop is : 3628800\n",
      "Sum of 10 Natural Number using while is : 55\n",
      "Product of 10 Natural Number using while is : 3628800\n"
     ]
    }
   ],
   "source": [
    "# 2.  Write a python program to print the sum and product of the first 10 natural numbers using forand while loop.\n",
    "\n",
    "#sum and product of first 10 natural number in for loop\n",
    "# code :\n",
    "sum = 0\n",
    "product = 1\n",
    "for i in range(1,11):\n",
    "    sum = sum +i\n",
    "    product = product * i\n",
    "\n",
    "print(f\"sum of 10 Natural Number using for loop is :  {sum}\")\n",
    "print(f\"product of 10 Natural Number using for loop is : {product}\")\n",
    "\n",
    "#sum and product of first 10 natural number in while loop\n",
    "# code:\n",
    "\n",
    "sum = 0\n",
    "product = 1\n",
    "i=1\n",
    "while i<=10:\n",
    "    sum = sum +i\n",
    "    product = product * i\n",
    "    i+=1 \n",
    "    \n",
    "print(f\"Sum of 10 Natural Number using while is : {sum}\")\n",
    "print(f\"Product of 10 Natural Number using while is : {product}\")\n",
    "\n"
   ]
  },
  {
   "cell_type": "code",
   "execution_count": 8,
   "metadata": {},
   "outputs": [
    {
     "name": "stdout",
     "output_type": "stream",
     "text": [
      "2250\n"
     ]
    }
   ],
   "source": [
    "'''\n",
    "3. Create a python program to compute the electricity bill for a household.\n",
    "Q4. Create a list of numbers from 1 to 100. Use for loop and while loop to calculate the cube of each\n",
    "number and if the cube of that number is divisible by 4 or 5 then append that number in a list and print\n",
    "that list.\n",
    "The per-unit charges in rupees are as follows: For the first 100 units, the user will be charged Rs. 4.5 per\n",
    "unit, for the next 100 units, the user will be charged Rs. 6 per unit, and for the next 100 units, the user will\n",
    "be charged Rs. 10 per unit, After 300 units and above the user will be charged Rs. 20 per unit.\n",
    "You are required to take the units of electricity consumed in a month from the user as input.\n",
    "Your program must pass this test case: when the unit of electricity consumed by the user in a month is\n",
    "310, the total electricity bill should be 2250\n",
    "'''\n",
    "\n",
    "#code :\n",
    "units = int(input())\n",
    "\n",
    "if (units <= 100) :\n",
    "    print(units *4.5 )\n",
    "    \n",
    "elif (units <= 200) :\n",
    "    print((100 * 4.5) +((units-100) * 6))\n",
    "    \n",
    "elif (units <=300):\n",
    "    print((100 * 4.5) +(100 * 6) +((units - 100)*10))\n",
    "    \n",
    "elif (units > 300):\n",
    "    print (int((100 * 4.5) +(100 * 6) +(100*10) +((units - 300) * 20)))"
   ]
  },
  {
   "cell_type": "code",
   "execution_count": 27,
   "metadata": {},
   "outputs": [],
   "source": [
    "'''\n",
    "Q5. Write a program to filter count vowels in the below-given string.\n",
    "string = \"I want to become a data scientist\"\n",
    "'''\n",
    "\n",
    "#Code:\n",
    "st =  \"I want to become a data scientist\"\n",
    "st = st.lower()"
   ]
  },
  {
   "cell_type": "code",
   "execution_count": 26,
   "metadata": {},
   "outputs": [
    {
     "name": "stdout",
     "output_type": "stream",
     "text": [
      "12\n"
     ]
    }
   ],
   "source": [
    "count=0\n",
    "for i in range(len(st)):\n",
    "    if (st[i] == 'a') or (st[i]== 'e') or (st[i] == 'i') or (st[i] == 'o') or (st[i]=='u'):\n",
    "        count+=1\n",
    "print(count)"
   ]
  }
 ],
 "metadata": {
  "kernelspec": {
   "display_name": "Python 3",
   "language": "python",
   "name": "python3"
  },
  "language_info": {
   "codemirror_mode": {
    "name": "ipython",
    "version": 3
   },
   "file_extension": ".py",
   "mimetype": "text/x-python",
   "name": "python",
   "nbconvert_exporter": "python",
   "pygments_lexer": "ipython3",
   "version": "3.9.13"
  },
  "orig_nbformat": 4,
  "vscode": {
   "interpreter": {
    "hash": "ea025ab24354864a6e02f870f4879dba9163a8b30effc33a46aee923fb0e3c19"
   }
  }
 },
 "nbformat": 4,
 "nbformat_minor": 2
}
