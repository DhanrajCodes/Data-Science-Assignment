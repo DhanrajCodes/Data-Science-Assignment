{
 "cells": [
  {
   "cell_type": "code",
   "execution_count": null,
   "metadata": {},
   "outputs": [],
   "source": [
    "'''\n",
    "Q1.Which function is used to open a file? WHat are the different modes of opening a file? \n",
    "Explain each mode of file opening.\n",
    "Ans- open() function is used to open a file. 'r mode, the file opens in the read mode, \n",
    "'w  mode, the file opens in write mode, 'a' mode, the file opens in append mode, \n",
    "'r+' mode, the file opens in the read & write mode.\n",
    "'''"
   ]
  },
  {
   "cell_type": "code",
   "execution_count": null,
   "metadata": {},
   "outputs": [],
   "source": [
    "'''\n",
    "Q2. Why close() function is used? Why is it important to close a file?\n",
    "Ans- The close() method closes an open file. You should always close your files, in some cases,\n",
    "due to buffering changes made to a file may not show until you close the file.\n",
    "'''"
   ]
  },
  {
   "cell_type": "code",
   "execution_count": null,
   "metadata": {},
   "outputs": [],
   "source": [
    "'''\n",
    "Q3. Write a python program to create a text file. Writte \"i want to become a data scientist\" in that file. Then close the file. Open this file and read the content of the file.\n",
    "'''"
   ]
  },
  {
   "cell_type": "code",
   "execution_count": 11,
   "metadata": {},
   "outputs": [
    {
     "data": {
      "text/plain": [
       "31"
      ]
     },
     "execution_count": 11,
     "metadata": {},
     "output_type": "execute_result"
    }
   ],
   "source": [
    "f = open(\"text.txt\", 'w')\n",
    "f.write(\"I want to become Data Scientist\")"
   ]
  },
  {
   "cell_type": "code",
   "execution_count": 12,
   "metadata": {},
   "outputs": [
    {
     "data": {
      "text/plain": [
       "'I want to become Data Scientist'"
      ]
     },
     "execution_count": 12,
     "metadata": {},
     "output_type": "execute_result"
    }
   ],
   "source": [
    "f = open(\"text.txt\", 'r')\n",
    "f.read()"
   ]
  },
  {
   "cell_type": "code",
   "execution_count": null,
   "metadata": {},
   "outputs": [],
   "source": [
    "'''\n",
    "Q4. Explain the following with python code: read(), readline() and readlines().\n",
    "Ans- The read() method returns the specified number of bytes from the file.\n",
    "     The readline() method will return a line a line from the file when called.\n",
    "     The readlines() method will return all the lines in a file in the format of a list where\n",
    "     each element is a line in the file.\n",
    "'''"
   ]
  },
  {
   "cell_type": "code",
   "execution_count": null,
   "metadata": {},
   "outputs": [],
   "source": [
    "'''\n",
    "Q5. Explain why with statement is used with open(). What is the advantage of using with statement and open() together?\n",
    "Ans- The with statement work with the open() function to open a file. Unlike open() where you have to close the file with the close() method, the with statement closes the file for you without you telling it to.\n",
    "    This is because the with statement calls 2 buit-in method behind the scene - _enter()__and__exit()__.\n",
    "'''"
   ]
  },
  {
   "cell_type": "code",
   "execution_count": null,
   "metadata": {},
   "outputs": [],
   "source": [
    "'''\n",
    "Q6. Explain the write() and writelines() functions. Gibe a suitable example.\n",
    "Ans- The only difference between the write() and writelines() is that write() is used to write a string to an already opened file while writelines() method is used to write a list of string in an opened file.\n",
    "'''"
   ]
  },
  {
   "cell_type": "code",
   "execution_count": 13,
   "metadata": {},
   "outputs": [],
   "source": [
    "file = open(\"employees.txt\", 'w')\n",
    "for i in range(2):\n",
    "    name = input()\n",
    "    file.write(name)\n",
    "    file.write(\"\\n\")\n",
    "    \n",
    "file.close()"
   ]
  },
  {
   "cell_type": "code",
   "execution_count": null,
   "metadata": {},
   "outputs": [],
   "source": [
    "file1 = open(\"employees1.txt\", 'w')\n",
    "lst = []\n",
    "for i in range(2):\n",
    "    name = input()\n",
    "    lst.append(name + '\\n')\n",
    "    \n",
    "file1.writelines(lst)\n",
    "file1.close()\n"
   ]
  },
  {
   "cell_type": "code",
   "execution_count": null,
   "metadata": {},
   "outputs": [],
   "source": []
  }
 ],
 "metadata": {
  "kernelspec": {
   "display_name": "base",
   "language": "python",
   "name": "python3"
  },
  "language_info": {
   "codemirror_mode": {
    "name": "ipython",
    "version": 3
   },
   "file_extension": ".py",
   "mimetype": "text/x-python",
   "name": "python",
   "nbconvert_exporter": "python",
   "pygments_lexer": "ipython3",
   "version": "3.9.12"
  },
  "orig_nbformat": 4
 },
 "nbformat": 4,
 "nbformat_minor": 2
}
