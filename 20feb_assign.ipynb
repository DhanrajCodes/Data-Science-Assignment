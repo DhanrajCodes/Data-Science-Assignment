{
 "cells": [
  {
   "cell_type": "code",
   "execution_count": null,
   "metadata": {},
   "outputs": [],
   "source": [
    "'''\n",
    "Q1. Explain GET and POST methods.\n",
    "Ans- Get and Post methods are the HTTP request methods used inside the <form> tag to send from\n",
    "data to the server . HTTP protocol enables the communication between the client and the server\n",
    "where a browser can be the client, and an application running on a computer system that hosts \n",
    "your website can be the server.\n",
    "'''"
   ]
  },
  {
   "cell_type": "code",
   "execution_count": null,
   "metadata": {},
   "outputs": [],
   "source": [
    "'''\n",
    "Q2. Why is request used in flask?\n",
    "Ans- To access the incoming data in Flask, you have to use the request object. The request object\n",
    "holds all incoming data from the request, Which includes the mimetype, referrer, IP address, raw \n",
    "data, HTTP method, and headers, among other things.\n",
    "'''"
   ]
  },
  {
   "cell_type": "code",
   "execution_count": null,
   "metadata": {},
   "outputs": [],
   "source": [
    "'''\n",
    "Q3. Why is redirect used in flask?\n",
    "Ans- Flask class has a redirect() function. When called, it returns a response object and \n",
    "redirects the user to another target location with specified status code. location parameter is \n",
    "the URL where response should be redirected.\n",
    "'''"
   ]
  },
  {
   "cell_type": "code",
   "execution_count": null,
   "metadata": {},
   "outputs": [],
   "source": [
    "'''\n",
    "Q4. What are templates in Flask? Why is the render_template() fucntion used?\n",
    "ANs- render_template is a Flask function from the flask. templating package. render_template is\n",
    "used to generate output from a template file based on the Jinja2 engine that is found in the\n",
    "application's templates folder. Note that render_template is typically imported directly from the\n",
    "flask package instead of from flask.\n",
    "'''"
   ]
  },
  {
   "cell_type": "code",
   "execution_count": null,
   "metadata": {},
   "outputs": [],
   "source": [
    "'''\n",
    "Q5. Create a simple API. Use postman to test it. Attach the screenchot of the output in the jupyter Notebook.\n",
    "Code - \n",
    "from flask import Flask,request ,render_template , jsonify\n",
    "\n",
    "app = Flask(__name__)\n",
    "\n",
    "\n",
    "@app.route('/')\n",
    "def home_page():\n",
    "    return render_template('index.html')\n",
    "\n",
    "\n",
    "@app.route('/math',methods=['POST'])\n",
    "def math_ops():\n",
    "    if(request.method == 'POST'):\n",
    "        ops = request.form['operation']\n",
    "        num1 = int(request.form['num1'])\n",
    "        num2 = int(request.form['num2'])\n",
    "        if ops == 'add':\n",
    "            r = num1+num2\n",
    "            result = \"The sum of \" + str(num1) + 'and ' + str(num2) + \"is \" + str(r)\n",
    "        if ops == 'subtract':\n",
    "            r = num1-num2\n",
    "            result = \"The subtract of \" + str(num1) + 'and ' + str(num2) + \"is \" + str(r)\n",
    "        if ops == 'multiply':\n",
    "            r = num1*num2\n",
    "            result = \"The multiply of \" + str(num1) + 'and ' + str(num2) + \"is \" + str(r)\n",
    "        if ops == 'divide':\n",
    "            r = num1/num2\n",
    "            result = \"The divide of \" + str(num1) + 'and ' + str(num2) + \"is \" + str(r)\n",
    "            \n",
    "        return render_template('results.html' , result = result)\n",
    "'''"
   ]
  },
  {
   "attachments": {
    "image.png": {
     "image/png": "[encoded data removed]"
    }
   },
   "cell_type": "markdown",
   "metadata": {},
   "source": [
    "![image.png](attachment:image.png)"
   ]
  }
 ],
 "metadata": {
  "language_info": {
   "name": "python"
  },
  "orig_nbformat": 4
 },
 "nbformat": 4,
 "nbformat_minor": 2
}
