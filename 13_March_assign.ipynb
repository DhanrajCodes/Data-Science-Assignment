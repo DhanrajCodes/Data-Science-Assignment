{
 "cells": [
  {
   "attachments": {},
   "cell_type": "markdown",
   "metadata": {},
   "source": [
    "Q1. Explain the assumptions required to use ANOVA and provide examples of violations that could impact\n",
    "the validity of the results.\n",
    "\n",
    "Ans- Assumption:\n",
    "\n",
    "1. Normalility of sampling distribution of means. The distribution of sample mean is normally distributed.\n",
    "\n",
    "2. Absence of outliers.\n",
    "Outlying score need to be remove from dataset.\n",
    "\n",
    "3. Homogenity of variance.Each one of the population has same variance.\n",
    "\n",
    "population variance in difference levels of each independent variable are equal.\n",
    "\n",
    "4. Sample are independent and random.\n",
    "\n",
    "factor: Medicine, level: 50mg, 5mg, 10mg"
   ]
  },
  {
   "attachments": {},
   "cell_type": "markdown",
   "metadata": {},
   "source": [
    "Q2. What are the three types of ANOVA, and in what situations would each be used?\n",
    "\n",
    "Ans- One-Way-Anova: one factor with atleast 2 levels then levels are independent.\n",
    "\n",
    "Repeated Measures Anova: One factor with atleast 2 levels but the levels are dependent.\n",
    "\n",
    "Factorial Anova: Two or more factor(Each of which with atleast 2 levels), levels can be either independent or dependent."
   ]
  },
  {
   "attachments": {},
   "cell_type": "markdown",
   "metadata": {},
   "source": [
    "Q3. What is the partitioning of variance in ANOVA, and why is it important to understand this concept?\n",
    "\n",
    "Ans:The partition property of the variance offers a simple way to summarize a model: the proportion of the total variation in the response variable that is accounted for by the model. This description is called the R² (“R-Squared”) of the model. It is a ratio: R2=variance of fitted model valuesvariance of response values."
   ]
  },
  {
   "attachments": {},
   "cell_type": "markdown",
   "metadata": {},
   "source": [
    "Q4. How would you calculate the total sum of squares (SST), explained sum of squares (SSE), and residual\n",
    "sum of squares (SSR) in a one-way ANOVA using Python?\n",
    "\n",
    "Ans- import pandas as pd\n",
    "import statsmodels.api as sm\n",
    "from statsmodels.formula.api import ols\n",
    "\n",
    "# load data\n",
    "data = pd.read_csv('data.csv')\n",
    "\n",
    "# perform one-way ANOVA\n",
    "model = ols('y ~ group', data=data).fit()\n",
    "anova_table = sm.stats.anova_lm(model, typ=2)\n",
    "\n",
    "# extract sum of squares\n",
    "SST = anova_table['sum_sq'][0]\n",
    "SSE = anova_table['sum_sq'][1]\n",
    "SSR = SST - SSE\n",
    "\n",
    "print(\"SST =\", SST)\n",
    "print(\"SSE =\", SSE)\n",
    "print(\"SSR =\", SSR)\n"
   ]
  },
  {
   "attachments": {},
   "cell_type": "markdown",
   "metadata": {},
   "source": [
    "Q5. In a two-way ANOVA, how would you calculate the main effects and interaction effects using Python?\n",
    "\n",
    "Ans- import pandas as pd\n",
    "import statsmodels.api as sm\n",
    "from statsmodels.formula.api import ols\n",
    "\n",
    "# load data\n",
    "data = pd.read_csv('data.csv')\n",
    "\n",
    "# perform two-way ANOVA\n",
    "model = ols('y ~ A + B + A:B', data=data).fit()\n",
    "anova_table = sm.stats.anova_lm(model, typ=2)\n",
    "\n",
    "# extract sum of squares\n",
    "SST = anova_table['sum_sq'][0]\n",
    "SSEA = anova_table['sum_sq'][1]\n",
    "SSEB = anova_table['sum_sq'][2]\n",
    "SSEAxB = anova_table['sum_sq'][3]\n",
    "SSR = SST - SSEA - SSEB - SSEAxB\n",
    "\n",
    "# calculate main effects and interaction effect\n",
    "main_effect_A = SSEA / (data['A'].nunique() - 1)\n",
    "main_effect_B = SSEB / (data['B'].nunique() - 1)\n",
    "interaction_effect = SSEAxB / ((data['A'].nunique() - 1) * (data['B'].nunique() - 1))\n",
    "\n",
    "print(\"Main effect of A =\", main_effect_A)\n",
    "print(\"Main effect of B =\", main_effect_B)\n",
    "print(\"Interaction effect =\", interaction_effect)\n"
   ]
  },
  {
   "attachments": {},
   "cell_type": "markdown",
   "metadata": {},
   "source": [
    "Q6. Suppose you conducted a one-way ANOVA and obtained an F-statistic of 5.23 and a p-value of 0.02.\n",
    "What can you conclude about the differences between the groups, and how would you interpret these\n",
    "results?\n",
    "\n",
    "Ans-The F-statistic measures the ratio of the between-group variability to the within-group variability. A large F-statistic suggests that the between-group variability is larger than the within-group variability, indicating that there may be significant differences between the group means.\n",
    "\n",
    "The p-value of 0.02 indicates that the probability of obtaining an F-statistic as large as 5.23 or larger, assuming that the null hypothesis is true (i.e., that there are no differences between the group means), is 0.02. Since this p-value is less than the commonly used significance level of 0.05, we reject the null hypothesis and conclude that there are significant differences between the group means."
   ]
  },
  {
   "attachments": {},
   "cell_type": "markdown",
   "metadata": {},
   "source": [
    "Q7. In a repeated measures ANOVA, how would you handle missing data, and what are the potential\n",
    "consequences of using different methods to handle missing data?\n",
    "\n",
    "Ans- Handling missing data in a repeated measures ANOVA can be tricky because the observations are related to each other, and missing values can affect the correlation structure of the data. There are several methods that can be used to handle missing data in a repeated measures ANOVA, including:\n",
    "\n",
    "Listwise deletion: This method involves deleting any cases that have missing data on any variable included in the analysis. While this is the simplest method, it can lead to biased results if the missing data are not missing completely at random (MCAR), meaning that the missingness is not related to the observed or unobserved data.\n",
    "\n",
    "Pairwise deletion: This method involves analyzing only the available data for each pair of variables included in the analysis. This method is less restrictive than listwise deletion, but it can lead to biased estimates if the missing data are not MCAR.\n",
    "\n",
    "Imputation: This method involves replacing the missing values with estimated values based on the observed data. There are several types of imputation methods, including mean imputation, regression imputation, and multiple imputation. Imputation can be a good option when the missing data are not MCAR, but the imputation model must be appropriate and carefully selected to avoid biased estimates."
   ]
  },
  {
   "attachments": {},
   "cell_type": "markdown",
   "metadata": {},
   "source": [
    "Q8. What are some common post-hoc tests used after ANOVA, and when would you use each one? Provide\n",
    "an example of a situation where a post-hoc test might be necessary.\n",
    "\n",
    "Ans- \n",
    "After conducting an ANOVA and finding a significant result, it is common to conduct post-hoc tests to determine which specific groups are significantly different from each other. Some common post-hoc tests include:\n",
    "\n",
    "Tukey's Honestly Significant Difference (HSD): This test compares all pairs of means and controls for the overall type I error rate. Tukey's HSD is appropriate when the sample sizes are equal and the variances are homogenous.\n",
    "\n",
    "Bonferroni correction: This test is a simple correction for multiple comparisons that divides the significance level (alpha) by the number of comparisons being made. Bonferroni correction is appropriate when there are only a few comparisons being made."
   ]
  },
  {
   "cell_type": "markdown",
   "metadata": {},
   "source": []
  }
 ],
 "metadata": {
  "language_info": {
   "name": "python"
  },
  "orig_nbformat": 4
 },
 "nbformat": 4,
 "nbformat_minor": 2
}
