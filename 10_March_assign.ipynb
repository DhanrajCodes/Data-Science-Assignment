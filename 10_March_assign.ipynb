{
 "cells": [
  {
   "attachments": {},
   "cell_type": "markdown",
   "metadata": {},
   "source": [
    "Q1. What is Estimate Statics? Explain point estimate and interval estimate with example.\n",
    "\n",
    "Ans- Estimate Statics is a method of estimating the value of a population parameter from a sample statistic. Point estimate is a single value that is used to estimate a population parameter. Interval estimate is a range of values that is used to estimate a population parameter."
   ]
  },
  {
   "attachments": {},
   "cell_type": "markdown",
   "metadata": {},
   "source": [
    "Q2. Write a Python function to estimate the population mean using a sample mean and standard deviation.\n"
   ]
  },
  {
   "cell_type": "code",
   "execution_count": 1,
   "metadata": {},
   "outputs": [],
   "source": [
    "import numpy as np\n",
    "from scipy.stats import t"
   ]
  },
  {
   "cell_type": "code",
   "execution_count": 2,
   "metadata": {},
   "outputs": [],
   "source": [
    "np.random.seed(42)\n",
    "sample_data = np.random.randint(0, 50, size= 100)"
   ]
  },
  {
   "cell_type": "code",
   "execution_count": 3,
   "metadata": {},
   "outputs": [],
   "source": [
    "sample_mean = np.mean(sample_data)\n",
    "sample_std = np.std(sample_data, ddof=1) #ddof = 1 specifies that we're calculating the sample standard  deviation"
   ]
  },
  {
   "cell_type": "code",
   "execution_count": 4,
   "metadata": {},
   "outputs": [],
   "source": [
    "# degree of freedom = n-1\n",
    "dof = len(sample_data) - 1\n",
    "\n",
    "# t-value for 95% confidence level and degrees of freedom\n",
    "t_value= t.ppf(0.975, dof)\n",
    "\n",
    "# margin of error\n",
    "margin_error = t_value * (sample_std / np.sqrt(len(sample_data)))\n",
    "\n",
    "confidence_interval = (sample_mean - margin_error, sample_mean + margin_error)"
   ]
  },
  {
   "cell_type": "code",
   "execution_count": 5,
   "metadata": {},
   "outputs": [
    {
     "name": "stdout",
     "output_type": "stream",
     "text": [
      "24.07\n",
      "(21.20328767176276, 26.936712328237242)\n"
     ]
    }
   ],
   "source": [
    "print(sample_mean)\n",
    "print(confidence_interval)"
   ]
  },
  {
   "attachments": {},
   "cell_type": "markdown",
   "metadata": {},
   "source": [
    "Q3. What is Hypothesis testing? Why is it used ? State the importance of hypothesis testing.\n",
    "\n",
    "Ans- Hypothesis testing is a method of statistical inference. It is used to test the validity of a claim about a population parameter. It is used to determine whether the sample data provides sufficient evidence to conclude that the claim is true. It is used to determine whether the sample data provides sufficient evidence to conclude that the claim is true."
   ]
  },
  {
   "attachments": {},
   "cell_type": "markdown",
   "metadata": {},
   "source": [
    "Q4. Create a hypothesis that states whether the average weight of male college students is greater than\n",
    "the average weight of female college students.\n",
    "\n",
    "Ans- H0: μ1 > μ2\n",
    "     H1: μ1 <= μ2"
   ]
  },
  {
   "attachments": {},
   "cell_type": "markdown",
   "metadata": {},
   "source": [
    "Q5. Write a Python script to conduct a hypothesis test on the difference between two population means, given a sample from each population.\n"
   ]
  },
  {
   "cell_type": "code",
   "execution_count": 10,
   "metadata": {},
   "outputs": [],
   "source": [
    "import numpy as np\n",
    "from scipy.stats import t\n",
    "\n",
    "# Enter the sample data for male and female weights\n",
    "male_weights = np.array([180, 190, 175, 200, 195])\n",
    "female_weights = np.array([150, 135, 165, 155, 170])"
   ]
  },
  {
   "cell_type": "code",
   "execution_count": 11,
   "metadata": {},
   "outputs": [],
   "source": [
    "mean_male = np.mean(male_weights)\n",
    "mean_female = np.mean(female_weights)\n",
    "std_male = np.std(male_weights, ddof=1)\n",
    "std_female = np.std(female_weights, ddof=1)"
   ]
  },
  {
   "cell_type": "code",
   "execution_count": 12,
   "metadata": {},
   "outputs": [],
   "source": [
    "# calculate the t-statistic and degree of freedom\n",
    "t_statistic = (mean_male - mean_female) / np.sqrt(std_male**2/ len(male_weights)) + (std_female**2 / len(female_weights))\n",
    "degrees_of_freedom = len(male_weights) + len(female_weights) -2"
   ]
  },
  {
   "cell_type": "code",
   "execution_count": 13,
   "metadata": {},
   "outputs": [],
   "source": [
    "# calculate the p-value\n",
    "p_value = 2 * (1- t.cdf(abs(t_statistic), degrees_of_freedom))"
   ]
  },
  {
   "cell_type": "code",
   "execution_count": 15,
   "metadata": {},
   "outputs": [
    {
     "name": "stdout",
     "output_type": "stream",
     "text": [
      "We reject the null hypothesis that the mean weight of males is greater than female_weights \n"
     ]
    }
   ],
   "source": [
    "alpha = 0.05\n",
    "\n",
    "if p_value < alpha:\n",
    "    print(\"We reject the null hypothesis that the mean weight of males is greater than female_weights \")\n",
    "else:\n",
    "    print(\"we fail to reject the null hypothesis that the mean weight of males is greater than female\")    \n"
   ]
  },
  {
   "attachments": {},
   "cell_type": "markdown",
   "metadata": {},
   "source": [
    "Q6. What is a null and alternate hypothesis? Give  some example\n",
    "\n",
    "Ans- Null hypothesis: It is regarding the assumption that there is no anomaly pattern or believing according to the assumption made. Alternate hypothesis: Contrary to the null hypothesis, it shows that observation is the result of real effect. \n",
    "example =if the expected earnings for the gambling game are truly equal to zero, then any difference between the average earnings in the data and zero is due to chance."
   ]
  },
  {
   "attachments": {},
   "cell_type": "markdown",
   "metadata": {},
   "source": [
    "Q7. Write down the steps in invovled in hypothesis testing.\n",
    "\n",
    "Ans- 1.Assume a null hypothesis, usually in machine learning algorithms we consider that there is no anomaly between the target and independent variable.\n",
    "\n",
    "2. Collect a sample.\n",
    "\n",
    "\n",
    "3. Calculate test statistics.\n",
    "\n",
    "4. Decide either to accept or reject the null hypothesis."
   ]
  },
  {
   "attachments": {},
   "cell_type": "markdown",
   "metadata": {},
   "source": [
    "Q8. Define p-value and explain the significance in hypothesis testing.\n",
    "\n",
    "Ans- A p-value is a statistical metric that helps statisticians decide whether they should accept or reject the null hypothesis. The p-value measures the probability there is no relationship between variables. A low p-value gives evidence against the null hypothesis. P-values are often misinterpreted\n",
    "\n"
   ]
  },
  {
   "attachments": {},
   "cell_type": "markdown",
   "metadata": {},
   "source": [
    "Q9. Generate a Student's t-distribution plot using Python's matplotlib library, with the degrees of freedom parameter set to 10."
   ]
  },
  {
   "cell_type": "code",
   "execution_count": 1,
   "metadata": {},
   "outputs": [],
   "source": [
    "import numpy as np\n",
    "import matplotlib.pyplot as plt"
   ]
  },
  {
   "cell_type": "code",
   "execution_count": 7,
   "metadata": {},
   "outputs": [],
   "source": [
    "df = 10\n",
    "\n",
    "x = np.linspace(-4, 4, num=1000)\n",
    "\n",
    "# calculate y-values using students t-distribution formuls\n",
    "y = (1/ (np.sqrt(df)) * ((1+(x**2 / df))**(-(df+1)/2)))\n"
   ]
  },
  {
   "cell_type": "code",
   "execution_count": 11,
   "metadata": {},
   "outputs": [
    {
     "data": {
      "image/png": "[encoded data removed]",
      "text/plain": [
       "<Figure size 432x288 with 1 Axes>"
      ]
     },
     "metadata": {
      "needs_background": "light"
     },
     "output_type": "display_data"
    }
   ],
   "source": [
    "plt.plot(x, y, label = 't-distribution')\n",
    "plt.legend()\n",
    "plt.show()"
   ]
  },
  {
   "attachments": {},
   "cell_type": "markdown",
   "metadata": {},
   "source": [
    "Q10. Write a Python program to calculate the two-sample t-test for independent samples, given two\n",
    "random samples of equal size and a null hypothesis that the population means are equal."
   ]
  },
  {
   "cell_type": "code",
   "execution_count": 12,
   "metadata": {},
   "outputs": [
    {
     "name": "stdout",
     "output_type": "stream",
     "text": [
      "t-statistic: -5.088725656856795\n",
      "p-value: 1.7394883976535918e-06\n"
     ]
    }
   ],
   "source": [
    "import numpy as np\n",
    "from scipy.stats import ttest_ind\n",
    "\n",
    "sample1 = np.random.normal(loc=10, scale=2, size=50)\n",
    "sample2 = np.random.normal(loc=12, scale=2, size=50)\n",
    "\n",
    "t_statistic, p_value = ttest_ind(sample1, sample2)\n",
    "\n",
    "print(\"t-statistic:\", t_statistic)\n",
    "print(\"p-value:\", p_value)\n"
   ]
  },
  {
   "attachments": {},
   "cell_type": "markdown",
   "metadata": {},
   "source": [
    "Q11: What is Student’s t distribution? When to use the t-Distribution.\n",
    "\n",
    "Ans- Student's t-distribution, is a type of probability distribution that is similar to the normal distribution with its bell shape but has heavier tails. It is used for estimating population parameters for small sample sizes or unknown variances."
   ]
  },
  {
   "attachments": {},
   "cell_type": "markdown",
   "metadata": {},
   "source": [
    "Q12: What is t-statistic? State the formula for t-statistic\n",
    "\n",
    "Ans= The t-value is a ratio of the difference between the mean of the two sample sets and the variation within the sample sets.\n",
    "\n",
    "t = (mean1 - mean2) / s(diff)/sqrt(n)\n"
   ]
  },
  {
   "attachments": {},
   "cell_type": "markdown",
   "metadata": {},
   "source": [
    "Q13. A coffee shop owner wants to estimate the average daily revenue for their shop. They take a random\n",
    "sample of 50 days and find the sample mean revenue to be $500 with a standard deviation of $50. Estimate the population mean revenue with a 95% confidence interval.\n",
    "\n",
    "Ans - CI = X ± Z*(σ/√n)\n",
    "\n",
    "Where:\n",
    "\n",
    "-> X is the sample mean revenue($500 in this case)\n",
    "\n",
    "-> Z* is the critical value from the standard normal distribution for the desired confidence level (95% confidence level corresponds to Z* = 1.96)\n",
    "\n",
    "-> σ is the population standard deviation (unkown)\n",
    "\n",
    "-> n is the sample size (50 in this case)\n",
    "\n",
    "Since the population standard deviation is unknown, we can use the sample standard deviation as an estimate. This is a common approach when the sample size is large (n >= 30) and the population is assumed to be approximately normally distributed.\n",
    "\n",
    "Substituting the given values into the formula, we get:\n",
    "\n",
    "CI = 500 ± 1.96 * (50/√50)\n",
    "= 500 ± 13.98\n",
    "= (486.02, 513.98)\n",
    "\n",
    "Therefore, we can be 95% confident that the true population mean revenue is between $486.02 and $513.98."
   ]
  },
  {
   "attachments": {},
   "cell_type": "markdown",
   "metadata": {},
   "source": [
    "Q14. A researcher hypothesizes that a new drug will decrease blood pressure by 10 mmHg. They conduct a\n",
    "clinical trial with 100 patients and find that the sample mean decrease in blood pressure is 8 mmHg with a\n",
    "standard deviation of 3 mmHg. Test the hypothesis with a significance level of 0.05.\n",
    "\n",
    "Ans- To test the hypothesis that the new drug decreases blood pressure by 10 mmHg with a significance level of 0.05, we can use a one-sample t-test. The null hypothesis is that the true mean decrease in blood pressure is equal to 10 mmHg, and the alternative hypothesis is that it is less than 10 mmHg.\n",
    "\n",
    "The test statistic for the one-sample t-test is:\n",
    "\n",
    "t = (X̄ - μ) / (s / √n)\n",
    "\n",
    "where:\n",
    "\n",
    "X̄ is the sample mean decrease in blood pressure (8 mmHg in this case)\n",
    "μ is the hypothesized true mean decrease in blood pressure (10 mmHg in this case)\n",
    "s is the sample standard deviation (3 mmHg in this case)\n",
    "n is the sample size (100 in this case)\n",
    "Substituting the given values into the formula, we get:\n",
    "\n",
    "t = (8 - 10) / (3 / √100)\n",
    "= -2 * 10 / 3\n",
    "= -6.67\n",
    "\n",
    "The degrees of freedom for the t-distribution are n - 1 = 99. Using a t-table or a calculator, we can find the critical value for a one-tailed test with a significance level of 0.05 and 99 degrees of freedom to be -1.660.\n",
    "\n",
    "Since the calculated t-value of -6.67 is less than the critical value of -1.660, we reject the null hypothesis. Therefore, we can conclude that the new drug decreases blood pressure by significantly less than 10 mmHg."
   ]
  },
  {
   "attachments": {},
   "cell_type": "markdown",
   "metadata": {},
   "source": [
    "Q15. An electronics company produces a certain type of product with a mean weight of 5 pounds and a\n",
    "standard deviation of 0.5 pounds. A random sample of 25 products is taken, and the sample mean weight\n",
    "is found to be 4.8 pounds. Test the hypothesis that the true mean weight of the products is less than 5\n",
    "pounds with a significance level of 0.01.\n",
    "\n",
    "Ans- To test the hypothesis that the true mean weight of the products is less than 5 pounds, we can use a one-tailed t-test with a significance level of 0.01.\n",
    "\n",
    "The null hypothesis is that the true mean weight of the products is equal to 5 pounds, and the alternative hypothesis is that the true mean weight of the products is less than 5 pounds.\n",
    "\n",
    "We can calculate the test statistic as follows:\n",
    "\n",
    "t = (sample mean - population mean) / (standard deviation / sqrt(sample size))\n",
    "t = (4.8 - 5) / (0.5 / sqrt(25))\n",
    "t = -2\n",
    "\n",
    "We can find the p-value associated with this test statistic using a t-distribution table or a calculator. With 24 degrees of freedom (sample size minus 1), the p-value is less than 0.01.\n",
    "\n",
    "Since the p-value is less than the significance level of 0.01, we reject the null hypothesis and conclude that the true mean weight of the products is less than 5 pounds at a significance level of 0.01."
   ]
  },
  {
   "attachments": {},
   "cell_type": "markdown",
   "metadata": {},
   "source": [
    "Q16. Two groups of students are given different study materials to prepare for a test. The first group (n1 =\n",
    "30) has a mean score of 80 with a standard deviation of 10, and the second group (n2 = 40) has a mean\n",
    "score of 75 with a standard deviation of 8. Test the hypothesis that the population means for the two\n",
    "groups are equal with a significance level of 0.01.\n",
    "\n",
    "Ans- To test the hypothesis that the population means for the two groups are equal, we can use a two-sample t-test. The null hypothesis is that the population means for the two groups are equal, while the alternative hypothesis is that they are not equal. We can set the significance level at 0.01.\n",
    "\n",
    "The formula for the two-sample t-test is:\n",
    "\n",
    "t = (x̄1 - x̄2) / sqrt[ (s1^2 / n1) + (s2^2 / n2) ]\n",
    "\n",
    "where:\n",
    "\n",
    "x̄1 and x̄2 are the sample means for the two groups,\n",
    "s1 and s2 are the sample standard deviations for the two groups, and\n",
    "n1 and n2 are the sample sizes for the two groups.\n",
    "\n",
    "Plugging in the values from the question, we get:\n",
    "\n",
    "t = (80 - 75) / sqrt[ (10^2 / 30) + (8^2 / 40) ]\n",
    "t = 2.21\n",
    "\n",
    "Using a two-tailed t-table with (30+40-2)=68 degrees of freedom at a significance level of 0.01, the critical value is approximately 2.660. Since our calculated t-value of 2.21 is less than the critical value of 2.660, we fail to reject the null hypothesis.\n",
    "\n",
    "Therefore, we do not have sufficient evidence to suggest that the population means for the two groups are not equal at a significance level of 0.01."
   ]
  },
  {
   "attachments": {},
   "cell_type": "markdown",
   "metadata": {},
   "source": [
    "Q17. A marketing company wants to estimate the average number of ads watched by viewers during a TV\n",
    "program. They take a random sample of 50 viewers and find that the sample mean is 4 with a standard\n",
    "deviation of 1.5. Estimate the population mean with a 99% confidence interval.\n",
    "\n",
    "Ans- To estimate the population mean with a 99% confidence interval, we can use the following formula:\n",
    "\n",
    "Confidence Interval = sample mean ± (critical value) x (standard error)\n",
    "\n",
    "where the standard error is equal to the standard deviation divided by the square root of the sample size.\n",
    "\n",
    "First, we need to determine the critical value for a 99% confidence interval. Since we have a large sample size (n = 50), we can use the Z-distribution. The critical value for a 99% confidence interval with 49 degrees of freedom is ±2.68 (from the Z-table).\n",
    "\n",
    "Next, we can calculate the standard error:\n",
    "\n",
    "standard error = standard deviation / sqrt(sample size)\n",
    "standard error = 1.5 / sqrt(50)\n",
    "standard error = 0.2121\n",
    "\n",
    "Now we can plug in the values into the formula:\n",
    "\n",
    "Confidence Interval = 4 ± (2.68) x (0.2121)\n",
    "Confidence Interval = 4 ± 0.569\n",
    "\n",
    "Therefore, the 99% confidence interval for the population mean is (3.431, 4.569). We can say with 99% confidence that the true average number of ads watched by viewers during a TV program is between 3.431 and 4.569."
   ]
  }
 ],
 "metadata": {
  "kernelspec": {
   "display_name": "base",
   "language": "python",
   "name": "python3"
  },
  "language_info": {
   "codemirror_mode": {
    "name": "ipython",
    "version": 3
   },
   "file_extension": ".py",
   "mimetype": "text/x-python",
   "name": "python",
   "nbconvert_exporter": "python",
   "pygments_lexer": "ipython3",
   "version": "3.9.12"
  },
  "orig_nbformat": 4
 },
 "nbformat": 4,
 "nbformat_minor": 2
}
