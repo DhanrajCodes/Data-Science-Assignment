{
 "cells": [
  {
   "cell_type": "code",
   "execution_count": null,
   "metadata": {},
   "outputs": [],
   "source": [
    "'''\n",
    "Q1.Create a vehicle class with an init method having instance variables as name_of_vehicle, max_speed and average_of_vehicle.\n",
    "'''\n",
    "# code\n",
    "class vehicle:\n",
    "    def __init__(self, name_of_vehicle, max_speed, average_of_vehicle):\n",
    "        self.name_of_vehicle = name_of_vehicle\n",
    "        self.max_speed = max_speed\n",
    "        self.average_of_vehicle = average_of_vehicle"
   ]
  },
  {
   "cell_type": "code",
   "execution_count": null,
   "metadata": {},
   "outputs": [],
   "source": [
    "v = vehicle(\"mahindra\", 100, 50)"
   ]
  },
  {
   "cell_type": "code",
   "execution_count": null,
   "metadata": {},
   "outputs": [],
   "source": [
    "v.name_of_vehicle"
   ]
  },
  {
   "cell_type": "code",
   "execution_count": null,
   "metadata": {},
   "outputs": [],
   "source": [
    "'''\n",
    "Q2. Create a child class car from the vehicle class created in Que 1, which will inherit the vehicle class. Create a method named seating_capacity which takes capacity as an argument and returns the name of the behicle and its seating capacity.\n",
    "'''\n",
    "# code\n",
    "class vehicle:\n",
    "    name_of_vehicle = \"mahindra\"\n",
    "    def seating_capacity(self, seat):\n",
    "        self.seat = seat\n",
    "        return self.seat"
   ]
  },
  {
   "cell_type": "code",
   "execution_count": null,
   "metadata": {},
   "outputs": [],
   "source": [
    "class car(vehicle) :\n",
    "    def car_name(self):\n",
    "        pass"
   ]
  },
  {
   "cell_type": "code",
   "execution_count": null,
   "metadata": {},
   "outputs": [],
   "source": [
    "p = car()"
   ]
  },
  {
   "cell_type": "code",
   "execution_count": null,
   "metadata": {},
   "outputs": [],
   "source": [
    "p.seating_capacity(4)"
   ]
  },
  {
   "cell_type": "code",
   "execution_count": null,
   "metadata": {},
   "outputs": [],
   "source": [
    "'''\n",
    "Q3. what is multiple inheritance? Write a python code to demonstrate multiple inheritance.\n",
    "Ans- if a child class inherit from more than one class. this child class is derived from multiple classes, we call it multiple inheritance in python.\n",
    "'''\n",
    "# code\n",
    "class student:\n",
    "    def student_name(self,name):\n",
    "        self.name = name\n",
    "        return self.name"
   ]
  },
  {
   "cell_type": "code",
   "execution_count": null,
   "metadata": {},
   "outputs": [],
   "source": [
    "class branch():\n",
    "    def student_branch(self,branch_name):\n",
    "        self.branch_name = branch_name\n",
    "        return self.branch_name"
   ]
  },
  {
   "cell_type": "code",
   "execution_count": null,
   "metadata": {},
   "outputs": [],
   "source": [
    "class course(student, branch):\n",
    "    def student_course(self, course_name):\n",
    "        self.course_name = course_name\n",
    "        return self.course_name"
   ]
  },
  {
   "cell_type": "code",
   "execution_count": null,
   "metadata": {},
   "outputs": [],
   "source": [
    "'''\n",
    "Q4.What are the getter setter in python? Create a class and crate a getter and a setter method in this class.\n",
    "Ans - Getter: A methid that allows you to access an attrubute in a given class.\n",
    "      Setter : A method that allows you to set or mutate the value of an attribute in a class.\n",
    "'''\n",
    "# code\n",
    "class company:\n",
    "      company_name = \"Microsoft\"\n",
    "      location = \"Hydrabad\"\n",
    "      coder = 5\n",
    "      \n",
    "      @property\n",
    "      def hire(self):\n",
    "            return self.company_name, self.location, self.coder\n",
    "\n",
    "      @hire.setter\n",
    "      def hire(self,fresher):\n",
    "            self.coder = fresher"
   ]
  },
  {
   "cell_type": "code",
   "execution_count": null,
   "metadata": {},
   "outputs": [],
   "source": [
    "c = company()"
   ]
  },
  {
   "cell_type": "code",
   "execution_count": null,
   "metadata": {},
   "outputs": [],
   "source": [
    "c.hire = 6"
   ]
  },
  {
   "cell_type": "code",
   "execution_count": null,
   "metadata": {},
   "outputs": [],
   "source": [
    "c.hire"
   ]
  },
  {
   "cell_type": "code",
   "execution_count": null,
   "metadata": {},
   "outputs": [],
   "source": [
    "'''\n",
    "Q5. What is mehtod overriding in python? Write a python code to demonstrate method overriding.\n",
    "Ans- Method overriding is an ability of any Oop language that allows a subclass or child class to provide a specigic implementation of a method that is already provided by one of its superclasses or parent classes.\n",
    "'''\n",
    "# code\n",
    "class parent:\n",
    "    def __init__(self):\n",
    "        self.value = \"inside parent\"\n",
    "        \n",
    "    def show(self):\n",
    "        print(self.value)"
   ]
  },
  {
   "cell_type": "code",
   "execution_count": null,
   "metadata": {},
   "outputs": [],
   "source": [
    "class child(parent):\n",
    "    def __init__(self):\n",
    "        self.value = \"inside child\"\n",
    "    def show(self):\n",
    "        print(self.value)"
   ]
  },
  {
   "cell_type": "code",
   "execution_count": null,
   "metadata": {},
   "outputs": [],
   "source": [
    "obj1 = parent()\n",
    "obj2 = child()"
   ]
  },
  {
   "cell_type": "code",
   "execution_count": null,
   "metadata": {},
   "outputs": [],
   "source": [
    "obj1.show()\n",
    "obj2.show()"
   ]
  },
  {
   "cell_type": "code",
   "execution_count": null,
   "metadata": {},
   "outputs": [],
   "source": []
  }
 ],
 "metadata": {
  "kernelspec": {
   "display_name": "base",
   "language": "python",
   "name": "python3"
  },
  "language_info": {
   "codemirror_mode": {
    "name": "ipython",
    "version": 3
   },
   "file_extension": ".py",
   "mimetype": "text/x-python",
   "name": "python",
   "nbconvert_exporter": "python",
   "pygments_lexer": "ipython3",
   "version": "3.9.12"
  },
  "orig_nbformat": 4
 },
 "nbformat": 4,
 "nbformat_minor": 2
}
