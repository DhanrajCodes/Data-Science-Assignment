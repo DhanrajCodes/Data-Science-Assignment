{
 "cells": [
  {
   "attachments": {},
   "cell_type": "markdown",
   "metadata": {},
   "source": [
    "Q1. Calculate the 95% confidence interval for a sample of data with a mean of 50 and a standard deviation\n",
    "of 5 using Python. Interpret the results."
   ]
  },
  {
   "cell_type": "code",
   "execution_count": 1,
   "metadata": {},
   "outputs": [],
   "source": [
    "import numpy as np\n",
    "from scipy import stats"
   ]
  },
  {
   "cell_type": "code",
   "execution_count": 2,
   "metadata": {},
   "outputs": [
    {
     "name": "stdout",
     "output_type": "stream",
     "text": [
      "(49.02001800772997, 50.97998199227003)\n"
     ]
    }
   ],
   "source": [
    "# sample data\n",
    "sample_mean = 50\n",
    "sample_std = 5\n",
    "\n",
    "n = 100 #assuming a sample size of 100\n",
    "\n",
    "se = sample_std/np.sqrt(n)\n",
    "\n",
    "z_critical = stats.norm.ppf(q = 0.975)\n",
    "ci = (sample_mean - z_critical * se, sample_mean + z_critical * se)\n",
    "\n",
    "print(ci)"
   ]
  },
  {
   "attachments": {},
   "cell_type": "markdown",
   "metadata": {},
   "source": [
    "Q2. Conduct a chi-square goodness of fit test to determine if the distribution of colors of M&Ms in a bag\n",
    "matches the expected distribution of 20% blue, 20% orange, 20% green, 10% yellow, 10% red, and 20%\n",
    "brown. Use Python to perform the test with a significance level of 0.05."
   ]
  },
  {
   "cell_type": "code",
   "execution_count": 1,
   "metadata": {},
   "outputs": [
    {
     "name": "stdout",
     "output_type": "stream",
     "text": [
      "Chi-square statistic: 3.0500\n",
      "P-value: 0.6923\n",
      "The distribution of colors in the M&Ms bag is not significantly different from the expected distribution.\n"
     ]
    }
   ],
   "source": [
    "import numpy as np\n",
    "from scipy.stats import chisquare\n",
    "\n",
    "# observed frequencies of each color in the M&Ms bag\n",
    "observed = np.array([15, 23, 19, 8, 11, 24])\n",
    "\n",
    "# expected frequencies based on the given distribution\n",
    "expected = np.array([.2, .2, .2, .1, .1, .2]) * np.sum(observed)\n",
    "\n",
    "# perform chi-square goodness of fit test\n",
    "stat, pval = chisquare(observed, expected)\n",
    "\n",
    "# print the results\n",
    "print(f\"Chi-square statistic: {stat:.4f}\")\n",
    "print(f\"P-value: {pval:.4f}\")\n",
    "if pval < 0.05:\n",
    "    print(\"The distribution of colors in the M&Ms bag is significantly different from the expected distribution.\")\n",
    "else:\n",
    "    print(\"The distribution of colors in the M&Ms bag is not significantly different from the expected distribution.\")\n"
   ]
  },
  {
   "attachments": {},
   "cell_type": "markdown",
   "metadata": {},
   "source": [
    "Q4. A study of the prevalence of smoking in a population of 500 individuals found that 60 individuals\n",
    "smoked. Use Python to calculate the 95% confidence interval for the true proportion of individuals in the\n",
    "population who smoke.\n",
    "\n",
    "Ans- To calculate the confidence interval, we can use the formula:\n",
    "\n",
    "CI = p ± z*(sqrt((p*(1-p))/n))\n",
    "\n",
    "Where:\n",
    "\n",
    "CI: confidence interval\n",
    "p: proportion of individuals who smoke in the sample\n",
    "z: z-score based on the desired level of confidence (95% in this case)\n",
    "n: sample size\n",
    "First, we need to calculate the proportion of individuals who smoke in the sample:\n",
    "\n",
    "p = 60/500\n",
    "p = 0.12\n",
    "\n",
    "Next, we need to calculate the z-score based on the desired level of confidence (95%):\n",
    "\n",
    "from scipy.stats import norm\n",
    "\n",
    "z = norm.ppf(0.975)\n",
    "z\n",
    "\n",
    "Output: 1.96\n",
    "Now, we can calculate the confidence interval:\n",
    "\n",
    "n = 500\n",
    "\n",
    "CI_lower = p - z*(sqrt((p*(1-p))/n))\n",
    "CI_upper = p + z*(sqrt((p*(1-p))/n))\n",
    "\n",
    "print(f\"The 95% confidence interval for the true proportion of individuals in the population who smoke is ({CI_lower:.3f}, {CI_upper:.3f}).\")\n",
    "\n",
    "Output: The 95% confidence interval for the true proportion of individuals in the population who smoke is (0.093, 0.147)."
   ]
  },
  {
   "attachments": {},
   "cell_type": "markdown",
   "metadata": {},
   "source": [
    "Q5. Calculate the 90% confidence interval for a sample of data with a mean of 75 and a standard deviation\n",
    "of 12 using Python. Interpret the results.\n",
    "\n",
    "Ans- To calculate the confidence interval, we can use the formula:\n",
    "\n",
    "CI = x̄ ± z*(σ/√n)\n",
    "\n",
    "Where:\n",
    "\n",
    "CI: confidence interval\n",
    "x̄: sample mean\n",
    "z: z-score based on the desired level of confidence (90% in this case)\n",
    "σ: population standard deviation (given as 12 in this case)\n",
    "n: sample size\n",
    "We need to know the sample size to calculate the confidence interval, so let's assume a sample size of 100 for this example.\n",
    "\n",
    "from scipy.stats import norm\n",
    "from math import sqrt\n",
    "\n",
    "x_bar = 75\n",
    "sigma = 12\n",
    "n = 100\n",
    "z = norm.ppf(0.95)\n",
    "\n",
    "CI_lower = x_bar - z*(sigma/sqrt(n))\n",
    "CI_upper = x_bar + z*(sigma/sqrt(n))\n",
    "\n",
    "print(f\"The 90% confidence interval for the population mean is ({CI_lower:.2f}, {CI_upper:.2f}).\")\n",
    "\n",
    "Output: The 90% confidence interval for the population mean is (72.76, 77.24).\n",
    "Interpretation:\n",
    "We are 90% confident that the true population mean lies between 72.76 and 77.24 based on this sample data. This means that if we were to take multiple samples and calculate their confidence intervals, 90% of those intervals would contain the true population mean."
   ]
  },
  {
   "attachments": {},
   "cell_type": "markdown",
   "metadata": {},
   "source": [
    "Q6. Use Python to plot the chi-square distribution with 10 degrees of freedom. Label the axes and shade the\n",
    "area corresponding to a chi-square statistic of 15."
   ]
  },
  {
   "cell_type": "code",
   "execution_count": 2,
   "metadata": {},
   "outputs": [
    {
     "data": {
      "image/png": "[encoded data removed]",
      "text/plain": [
       "<Figure size 432x288 with 1 Axes>"
      ]
     },
     "metadata": {
      "needs_background": "light"
     },
     "output_type": "display_data"
    }
   ],
   "source": [
    "import numpy as np\n",
    "import matplotlib.pyplot as plt\n",
    "from scipy.stats import chi2\n",
    "\n",
    "# Define the range of x values\n",
    "x = np.linspace(0, 30, 500)\n",
    "\n",
    "# Define the degrees of freedom\n",
    "df = 10\n",
    "\n",
    "# Create a chi-square distribution with df degrees of freedom\n",
    "chi2_dist = chi2(df)\n",
    "\n",
    "# Calculate the probability density function (PDF) for the chi-square distribution\n",
    "pdf = chi2_dist.pdf(x)\n",
    "\n",
    "# Create a plot of the chi-square distribution\n",
    "fig, ax = plt.subplots()\n",
    "ax.plot(x, pdf)\n",
    "\n",
    "# Shade the area corresponding to a chi-square statistic of 15\n",
    "x_shade = np.linspace(15, 30, 100)\n",
    "y_shade = chi2_dist.pdf(x_shade)\n",
    "ax.fill_between(x_shade, y_shade, color='blue', alpha=0.3)\n",
    "\n",
    "# Label the axes\n",
    "ax.set_xlabel('Chi-square statistic')\n",
    "ax.set_ylabel('Probability density')\n",
    "ax.set_title('Chi-square distribution with 10 degrees of freedom')\n",
    "\n",
    "# Show the plot\n",
    "plt.show()"
   ]
  },
  {
   "attachments": {},
   "cell_type": "markdown",
   "metadata": {},
   "source": [
    "Q7. A random sample of 1000 people was asked if they preferred Coke or Pepsi. Of the sample, 520\n",
    "preferred Coke. Calculate a 99% confidence interval for the true proportion of people in the population who\n",
    "prefer Coke.\n",
    "\n",
    "Ans- To calculate the confidence interval for the true proportion of people in the population who prefer Coke, we can use the formula:\n",
    "\n",
    "CI = p ± z*(sqrt((p*(1-p))/n))\n",
    "\n",
    "where:\n",
    "\n",
    "CI: confidence interval\n",
    "p: proportion of people who prefer Coke in the sample\n",
    "z: z-score based on the desired level of confidence (99% in this case)\n",
    "n: sample size\n",
    "First, we need to calculate the proportion of people who prefer Coke in the sample:\n",
    "\n",
    "p = 520/1000\n",
    "p = 0.52\n",
    "\n",
    "Next, we need to calculate the z-score based on the desired level of confidence (99%):\n",
    "\n",
    "from scipy.stats import norm\n",
    "\n",
    "z = norm.ppf(0.995)\n",
    "z\n",
    "\n",
    "Output: 2.576\n",
    "Now, we can calculate the confidence interval:\n",
    "\n",
    "n = 1000\n",
    "\n",
    "CI_lower = p - z*(sqrt((p*(1-p))/n))\n",
    "CI_upper = p + z*(sqrt((p*(1-p))/n))\n",
    "\n",
    "print(f\"The 99% confidence interval for the true proportion of people in the population who prefer Coke is ({CI_lower:.3f}, {CI_upper:.3f}).\")\n",
    "\n",
    "Output: The 99% confidence interval for the true proportion of people in the population who prefer Coke is (0.488, 0.552).\n",
    "Interpretation:"
   ]
  },
  {
   "attachments": {},
   "cell_type": "markdown",
   "metadata": {},
   "source": [
    "Q8. A researcher hypothesizes that a coin is biased towards tails. They flip the coin 100 times and observe\n",
    "45 tails. Conduct a chi-square goodness of fit test to determine if the observed frequencies match the\n",
    "expected frequencies of a fair coin. Use a significance level of 0.05\n",
    "\n",
    "Ans- To conduct a chi-square goodness of fit test, we need to follow these steps:\n",
    "\n",
    "Step 1: State the null hypothesis and the alternative hypothesis.\n",
    "\n",
    "Null hypothesis: The observed frequencies of tails and heads are not significantly different from the expected frequencies of a fair coin.\n",
    "\n",
    "Alternative hypothesis: The observed frequencies of tails are significantly different from the expected frequencies of a fair coin.\n",
    "\n",
    "Step 2: Determine the expected frequencies of the coin toss.\n",
    "\n",
    "For a fair coin, the expected frequency of tails is 50 and the expected frequency of heads is also 50.\n",
    "\n",
    "Step 3: Calculate the test statistic.\n",
    "\n",
    "The test statistic for the chi-square goodness of fit test is calculated using the formula:\n",
    "\n",
    "χ² = Σ((O-E)²/E)\n",
    "\n",
    "Where:\n",
    "χ² = test statistic\n",
    "O = observed frequency\n",
    "E = expected frequency\n",
    "\n",
    "Using the data from the researcher's experiment, we can calculate the test statistic as follows:\n",
    "\n",
    "χ² = ((45-50)²/50) + ((55-50)²/50)\n",
    "χ² = 1.8\n",
    "\n",
    "Step 4: Determine the degrees of freedom.\n",
    "\n",
    "Degrees of freedom (df) = number of categories - 1\n",
    "\n",
    "In this case, there are two categories (tails and heads), so df = 2-1 = 1.\n",
    "\n",
    "Step 5: Determine the critical value.\n",
    "\n",
    "Using a significance level of 0.05 and 1 degree of freedom, we can look up the critical value in a chi-square distribution table or use a calculator to find that the critical value is 3.84.\n",
    "\n",
    "Step 6: Compare the test statistic to the critical value.\n",
    "\n",
    "Since the test statistic (1.8) is less than the critical value (3.84), we fail to reject the null hypothesis.\n",
    "\n",
    "Step 7: Interpret the results.\n",
    "\n",
    "The results of the chi-square goodness of fit test suggest that there is not enough evidence to conclude that the observed frequencies of tails are significantly different from the expected frequencies of a fair coin. Therefore, we can conclude that the coin is not biased towards tails based on the results of this experiment."
   ]
  },
  {
   "attachments": {},
   "cell_type": "markdown",
   "metadata": {},
   "source": [
    "Q11. A random sample of 30 people was selected from a population with an unknown mean and standard\n",
    "deviation. The sample mean was found to be 72 and the sample standard deviation was found to be 10.\n",
    "Conduct a hypothesis test to determine if the population mean is significantly different from 70. Use a\n",
    "significance level of 0.05.\n",
    "\n",
    "Ans- To conduct a hypothesis test for this scenario, we need to follow these steps:\n",
    "\n",
    "Step 1: State the null hypothesis and the alternative hypothesis.\n",
    "\n",
    "Null hypothesis: The population mean is not significantly different from 70.\n",
    "\n",
    "Alternative hypothesis: The population mean is significantly different from 70.\n",
    "\n",
    "Step 2: Determine the level of significance.\n",
    "\n",
    "The level of significance is given as 0.05 in the question.\n",
    "\n",
    "Step 3: Calculate the test statistic.\n",
    "\n",
    "The test statistic for this scenario is the t-statistic, which is calculated using the formula:\n",
    "\n",
    "t = (x̄ - μ) / (s / sqrt(n))\n",
    "\n",
    "where x̄ is the sample mean, μ is the hypothesized population mean, s is the sample standard deviation, and n is the sample size.\n",
    "\n",
    "Using the values given in the question, we can calculate the t-statistic as follows:\n",
    "\n",
    "t = (72 - 70) / (10 / sqrt(30))\n",
    "t = 1.549\n",
    "\n",
    "Step 4: Determine the degrees of freedom.\n",
    "\n",
    "The degrees of freedom for this scenario are (n - 1) = (30 - 1) = 29.\n",
    "\n",
    "Step 5: Determine the critical values.\n",
    "\n",
    "Using a significance level of 0.05 and 29 degrees of freedom, we can find the critical values using a t-distribution table or a calculator. The critical values are -2.045 and 2.045.\n",
    "\n",
    "Step 6: Compare the test statistic to the critical values.\n",
    "\n",
    "Since the test statistic (1.549) is not greater than the critical value (2.045) or less than the negative of the critical value (-2.045), we fail to reject the null hypothesis.\n",
    "\n",
    "Step 7: Interpret the results.\n",
    "\n",
    "The results of the hypothesis test suggest that there is not enough evidence to conclude that the population mean is significantly different from 70. Therefore, we cannot reject the null hypothesis and can conclude that the population mean may not be significantly different from 70 based on the sample data."
   ]
  },
  {
   "attachments": {},
   "cell_type": "markdown",
   "metadata": {},
   "source": [
    "Q3. Use Python to calculate the chi-square statistic and p-value for a contingency table with the following\n",
    "data:\n",
    "Interpret the results of the test."
   ]
  },
  {
   "cell_type": "code",
   "execution_count": 3,
   "metadata": {},
   "outputs": [],
   "source": [
    "from scipy.stats import chi2_contingency\n",
    "\n",
    "data = [[20, 15], [10, 25], [15, 20]]\n",
    "stt, p, dof, expected = chi2_contingency(data)"
   ]
  },
  {
   "cell_type": "code",
   "execution_count": 4,
   "metadata": {},
   "outputs": [
    {
     "name": "stdout",
     "output_type": "stream",
     "text": [
      "0.05411376622282158\n",
      "fail to reject H0\n"
     ]
    }
   ],
   "source": [
    "alpha = 0.05\n",
    "print(p)\n",
    "if p <= alpha:\n",
    "    print(\"rejected H0\")\n",
    "else:\n",
    "    print(\"fail to reject H0\")"
   ]
  }
 ],
 "metadata": {
  "kernelspec": {
   "display_name": "base",
   "language": "python",
   "name": "python3"
  },
  "language_info": {
   "codemirror_mode": {
    "name": "ipython",
    "version": 3
   },
   "file_extension": ".py",
   "mimetype": "text/x-python",
   "name": "python",
   "nbconvert_exporter": "python",
   "pygments_lexer": "ipython3",
   "version": "3.9.12"
  },
  "orig_nbformat": 4,
  "vscode": {
   "interpreter": {
    "hash": "3334ca59976ac1275f78b9ce83eedc6f712029800cc9f7146d4f059ca85f4089"
   }
  }
 },
 "nbformat": 4,
 "nbformat_minor": 2
}
