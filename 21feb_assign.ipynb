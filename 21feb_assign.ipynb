{
 "cells": [
  {
   "cell_type": "code",
   "execution_count": null,
   "metadata": {},
   "outputs": [],
   "source": [
    "'''\n",
    "Q1. What is web Scraping? Why is it used? Give three areas where web scraping is used to get data.\n",
    "Ans- Web scraping is an automatic method to obtain large amounts of data from websites. Most of \n",
    "this data is unstructured data in a HTML format which is then converted into structured data in \n",
    "a spreadsheet or a database so that it can be used in various applications. There are many \n",
    "different ways to perform web scraping to abtain data from websites. These include using online \n",
    "service particular API's or even creating your code for web scraping from scratch. Many large \n",
    "website,like google , Twitter, Facebook, stackoverflow,etc. have API's  that allow you to access \n",
    "their data in a structured format. This is the best option, but there are other sites that don't \n",
    "allow users to access large amounts of data in a structured form or they are simply not that \n",
    "technologically advanced.\n",
    "    As well as contact scraping , web scraping is used as a component of application used for \n",
    "    web indexing, web mining and data mining, online price change monitering and price comparison,\n",
    "    product review scraping, gatheiring real estate listings, weather data monitoring, website \n",
    "    change detection.\n",
    "'''"
   ]
  },
  {
   "cell_type": "code",
   "execution_count": null,
   "metadata": {},
   "outputs": [],
   "source": [
    "'''\n",
    "Q2. What are the different methods used for web scraping?\n",
    "Ans- Scraping is a treatment technique using tools which enables clincians to efficinetly locate\n",
    "and treat soft tissue lightness and injury. The scraping instruments help break up these adhesions \n",
    "and normal tissue mobility, Just like any other form of soft tissue mobilization or deep tissue \n",
    "massage\n",
    "'''"
   ]
  },
  {
   "cell_type": "code",
   "execution_count": null,
   "metadata": {},
   "outputs": [],
   "source": [
    "'''\n",
    "Q3. What is beautiful soup? Why is it used?\n",
    "Ans- Beautiful Soup is a Python wen scraping library that allows us to parso and scrape HTML and \n",
    "XML pages\n",
    "'''"
   ]
  },
  {
   "cell_type": "code",
   "execution_count": null,
   "metadata": {},
   "outputs": [],
   "source": [
    "'''\n",
    "Q4. Why is flask used in this web scraping project?\n",
    "Ans- Flask is a lightweignt framework to build website. We'll use this to parse our collected data\n",
    "and display it a HTML i a new_file. The requests module allows us to send data and  dispay it as \n",
    "HTML file.\n",
    "'''"
   ]
  },
  {
   "cell_type": "code",
   "execution_count": null,
   "metadata": {},
   "outputs": [],
   "source": [
    "'''\n",
    "Q5. Write the names of AWS services used in this project. Also, explain the use of each service.\n",
    "Ans- Amazon EC2 is one of the fastest-growing cloud computing AWS services, which offers virtual\n",
    "servers to manage any kind of workload. It facilitates the computing infrastructure with the best\n",
    "suitable processors, networking facilities, and storage systems. As a result, it supports adapting\n",
    "to the workloads precisely. Amazon EC2 provides a highly secure, reliable, performing computing \n",
    "infrastructure meeting business demands. And, it helps you to access resources quickly and dynamically\n",
    "scale capacities as per demands.\n",
    "'''"
   ]
  }
 ],
 "metadata": {
  "language_info": {
   "name": "python"
  },
  "orig_nbformat": 4
 },
 "nbformat": 4,
 "nbformat_minor": 2
}
