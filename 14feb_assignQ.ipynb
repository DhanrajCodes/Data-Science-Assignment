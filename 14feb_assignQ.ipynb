{
 "cells": [
  {
   "cell_type": "code",
   "execution_count": null,
   "metadata": {},
   "outputs": [],
   "source": [
    "'''\n",
    "Q1. what is multithreading in python?why is it used? Name the module used to handel thread in \n",
    "python.\n",
    "Ans- Multithreading refers to concurrently executing multiple threads by rapidly switching the\n",
    "control of the CPU between threads.Multithreading used in python because enables efficient \n",
    "utilization of the resources as the threads share the data space and memory. The threading\n",
    "module in a high-level implementation of multitheading used to deploy an application in Python.\n",
    "'''\n"
   ]
  },
  {
   "cell_type": "code",
   "execution_count": null,
   "metadata": {},
   "outputs": [],
   "source": [
    "'''\n",
    "Q2. Why threading module used? Write the use of the following functions:\n",
    "1. activeCount()\n",
    "2. currentThread()\n",
    "3.enumerate()\n",
    "Ans- The newer threading module included with Python2.4 provides much more powerful, high-level \n",
    "support for threads.\n",
    "1. activeCount() -> used to count the currently active or running threads.\n",
    "2. currentThread() -> used to return the current Thread object, which corresponds to the \n",
    "caller's thread of control.\n",
    "3. enumerate() -> used to adds a counter to an iterable and returns it.\n",
    "'''"
   ]
  },
  {
   "cell_type": "code",
   "execution_count": null,
   "metadata": {},
   "outputs": [],
   "source": [
    "'''\n",
    "Q3. Explain the following functions:\n",
    "1. run ()\n",
    "2. start()\n",
    "3. join()\n",
    "4. isAlive()\n",
    "\n",
    "Ans-> 1.run() = The run() method excutes any target function belonging to a given thread object\n",
    "that is now active.\n",
    "2. start() = Strarts a python thread. A tjread is started after some fractional delta time, as \n",
    "the thread needs to be initialised before it is executed in the operating system context.\n",
    "3. join() = The join() method takes all items in an iterable and hoins them into one string. \n",
    "A steing must be specified as the separator.\n",
    "4. isAlive() = The isAlive() method returns True if the thread is still running and False, \n",
    "otherwise.\n",
    "'''"
   ]
  },
  {
   "cell_type": "code",
   "execution_count": null,
   "metadata": {},
   "outputs": [],
   "source": [
    "'''\n",
    "Q5. State advantages and disadvantages of mulithreading\n",
    "Ans- Multithreading in Python streamlines the efficient utilization of resources as the threads \n",
    "    share the same memoru and data space.With more thread, the code becomes difficult to debug \n",
    "    and maintain.\n",
    "'''"
   ]
  },
  {
   "cell_type": "code",
   "execution_count": null,
   "metadata": {},
   "outputs": [],
   "source": [
    "'''\n",
    "Q6. Explain deadlocks and race conditons.\n",
    "Ans- Both share some similarities, such as they both occur in multithread solutions and hamper \n",
    "device performance. However, both are not the same. A race condition occurs when two threads use \n",
    "the same variable at a given time. Deadlock exists when two threads seek one lock simultaneously.\n",
    "'''"
   ]
  }
 ],
 "metadata": {
  "language_info": {
   "name": "python"
  },
  "orig_nbformat": 4
 },
 "nbformat": 4,
 "nbformat_minor": 2
}
