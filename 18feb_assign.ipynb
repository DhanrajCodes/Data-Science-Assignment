{
 "cells": [
  {
   "cell_type": "code",
   "execution_count": null,
   "metadata": {},
   "outputs": [],
   "source": [
    "'''\n",
    "Q1. what is an API? Give an example, where an API is used in real life.\n",
    "Ans- APIs are mechanisms that enable two software components to communicate with each other \n",
    "using a set of definitons and protocols. For example the weather bureau's software system\n",
    "contains daily weather app on your phone talks to this system via APIs and shows you daily \n",
    "weather updates on your phone.\n",
    "'''"
   ]
  },
  {
   "cell_type": "code",
   "execution_count": null,
   "metadata": {},
   "outputs": [],
   "source": [
    "'''\n",
    "Q2. Give advantage and disadvantages of using API.\n",
    "Ans- Advantage:\n",
    "    Automation. when using an API managed by computers, less human effort is required and\n",
    "    workflows can be easily updated to become faster and more productive.\n",
    "    Developer effciency and innovation. APIs empower developers to be more productive by \n",
    "    resung code in compex but repetitive processes. They don't need to start from scartch \n",
    "    as the API specifies how to assemble software components in a program. APIs exit to make\n",
    "    it easy to interface with other developers' applications.\n",
    "    Disadvantage:\n",
    "    Creating API is a very time comsuming process.\n",
    "    A fixed scale is necessary.\n",
    "    Imprecise boundary delinetion.\n",
    "    To create API, programming knowledge  is necessary.\n",
    "    Maintenance cost is very high.\n",
    "    It can crash when testing API.\n",
    "'''"
   ]
  },
  {
   "cell_type": "code",
   "execution_count": null,
   "metadata": {},
   "outputs": [],
   "source": [
    "'''\n",
    "Q3. What is a Web API?  Different between API and Web API.\n",
    "Ans-  Web API as the name suggests, is an API over the web which can be accessed using HTTP \n",
    "protocol. It is a concept and not a technology.\n",
    "    APIs and Web API\n",
    "    Web API is used as an interface between two different applications for communicating with\n",
    "    each other. It uses HTM: requests that can be compressed, but XML data cannot be compressed. \n",
    "    Data can be compressed.\n",
    "    API is an interface exposes an application's data to outside software,whereas web applications\n",
    "    are one type of API with sticter requirements.\n",
    "'''"
   ]
  },
  {
   "cell_type": "code",
   "execution_count": null,
   "metadata": {},
   "outputs": [],
   "source": [
    "'''\n",
    "Q4. Explain REST and SOAP Architecture. Mention shortcoming of SOAP.\n",
    "Ans- REST APIs access a resource for data. SOAP APIs perform an opration. REST is an architecture\n",
    "that's more data-driven, while SOAP is a standardized protocol for transferring structured \n",
    "information that's more function driven.\n",
    "'''"
   ]
  },
  {
   "cell_type": "code",
   "execution_count": null,
   "metadata": {},
   "outputs": [],
   "source": [
    "'''\n",
    "Q5. DIfferentiate between REST and SOAP.\n",
    "Ans- REST is a set of guidelines that offers flexible implementation, whereas SOAP is a protocol \n",
    "with specific requirements like XML messaging.\n",
    "'''"
   ]
  }
 ],
 "metadata": {
  "language_info": {
   "name": "python"
  },
  "orig_nbformat": 4
 },
 "nbformat": 4,
 "nbformat_minor": 2
}
