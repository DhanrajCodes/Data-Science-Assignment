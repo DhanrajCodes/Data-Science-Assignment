{
 "cells": [
  {
   "cell_type": "code",
   "execution_count": 4,
   "metadata": {},
   "outputs": [
    {
     "data": {
      "text/plain": [
       "[1, 3, 5, 7, 9, 11, 13, 15, 17, 19, 21, 23, 25]"
      ]
     },
     "execution_count": 4,
     "metadata": {},
     "output_type": "execute_result"
    }
   ],
   "source": [
    "'''\n",
    "Q1. Which keyword is used to create a function? Create a function to return a list of odd numbers in the\n",
    "range of 1 to 25.\n",
    "\n",
    "Ans = Def function is used to create a function \n",
    "'''\n",
    "\n",
    "# code\n",
    "\n",
    "\n",
    "def oddnum():\n",
    "    l1 = []\n",
    "    [l1.append(i) for i in range(1, 26) if i % 2 != 0]\n",
    "\n",
    "    return l1\n",
    "\n",
    "\n",
    "oddnum()\n"
   ]
  },
  {
   "cell_type": "code",
   "execution_count": 10,
   "metadata": {},
   "outputs": [
    {
     "data": {
      "text/plain": [
       "(1, 2, 3, 4, 'hello', [1, 2, 3, 4])"
      ]
     },
     "execution_count": 10,
     "metadata": {},
     "output_type": "execute_result"
    }
   ],
   "source": [
    "'''\n",
    "Q2. Why *args and **kwargs is used in some functions? Create a function each for *args and **kwargs\n",
    "to demonstrate their use.\n",
    "\n",
    "Ans = In the function, we should use an asterisk (*) before the parameter name to pass variable length \n",
    "arguments.The arguments are passed as a tuple and these passed arguments make tuple inside the function\n",
    "with same name as the parameter excluding asterisk(*).\n",
    "\n",
    "In the function, we use the double asterisk ** before the parameter name to denote this type of argument. \n",
    "The arguments are passed as a dictionary and these arguments make a dictionary inside function with name \n",
    "same as the parameter excluding double asterisk (**).\n",
    "'''\n",
    "\n",
    "# code \n",
    "\n",
    "def test1(*args):\n",
    "    return args\n",
    "\n",
    "def test2(**kwargs):\n",
    "    return kwargs\n",
    "\n",
    "test1(1,2,3,4, \"hello\",[1,2,3,4,])"
   ]
  },
  {
   "cell_type": "code",
   "execution_count": 11,
   "metadata": {},
   "outputs": [
    {
     "data": {
      "text/plain": [
       "{'a': 'semicolon', 'b': [1, 2, 3, 4, 5], 'c': 12.34}"
      ]
     },
     "execution_count": 11,
     "metadata": {},
     "output_type": "execute_result"
    }
   ],
   "source": [
    "test2(a = \"semicolon\", b= [1,2,3,4,5], c= 12.34)"
   ]
  },
  {
   "cell_type": "code",
   "execution_count": 17,
   "metadata": {},
   "outputs": [
    {
     "name": "stdout",
     "output_type": "stream",
     "text": [
      "[2, 4, 6, 8, 10]\n"
     ]
    }
   ],
   "source": [
    "'''\n",
    "Q3.  What is an iterator in python? Name the method used to initialise the iterator object and the method\n",
    "used for iteration. Use these methods to print the first five elements of the given list [2, 4, 6, 8, 10, 12, 14,\n",
    "16, 18, 20].\n",
    "\n",
    "Ans=Iterator in Python is an object that is used to iterate over iterable objects like \n",
    "    lists, tuples, dicts, and sets. The iterator object is initialized using the iter() \n",
    "    method. It uses the next() method for iteration. The iter() method used to initialise the iterator object \n",
    "'''\n",
    "\n",
    "mytuple = [2, 4, 6, 8, 10, 12, 14,16, 18, 20]\n",
    "myit = iter(mytuple)\n",
    "l1 = []\n",
    "for i in range(0,5):\n",
    "    l1.append(next(myit))\n",
    "print(l1)"
   ]
  },
  {
   "cell_type": "code",
   "execution_count": 19,
   "metadata": {},
   "outputs": [
    {
     "name": "stdout",
     "output_type": "stream",
     "text": [
      "['p', 'w', 's', 'k', 'i', 'l', 'l', 's']\n"
     ]
    }
   ],
   "source": [
    "'''\n",
    "Q4. Write a List Comprehension to iterate through the given string: \"pwskills\".\n",
    "Expected output: ['p', 'w', 's', 'k', 'i', 'l', 'l', 's'] \n",
    "'''\n",
    "# code:\n",
    "\n",
    "st = 'pwskills'\n",
    "myitt = iter(st)\n",
    "l2 = []\n",
    "# for i in range(0,len(st)):\n",
    "#     l2.append(next(myitt))\n",
    "[l2.append(next(myitt)) for i in st]\n",
    "    \n",
    "print(l2)"
   ]
  },
  {
   "cell_type": "code",
   "execution_count": 36,
   "metadata": {},
   "outputs": [],
   "source": [
    "'''\n",
    "Q5. Write a python program to check whether a given number is Palindrome or not \n",
    "using a while loop.\n",
    "'''\n",
    "\n",
    "# code\n",
    "def palindrome(l):\n",
    "    l1=\"\"\n",
    "    i = len(l)-1\n",
    "    while i>=0 :\n",
    "        l1 = l1 + l[i]\n",
    "        i-=1\n",
    "        \n",
    "    if l == l1:\n",
    "        return True\n",
    "    else:\n",
    "        return False\n",
    "    \n",
    "        "
   ]
  },
  {
   "cell_type": "code",
   "execution_count": 39,
   "metadata": {},
   "outputs": [
    {
     "data": {
      "text/plain": [
       "True"
      ]
     },
     "execution_count": 39,
     "metadata": {},
     "output_type": "execute_result"
    }
   ],
   "source": [
    "palindrome(\"uwu\")"
   ]
  },
  {
   "cell_type": "code",
   "execution_count": 42,
   "metadata": {},
   "outputs": [],
   "source": [
    "'''\n",
    "Q6. Write a code to print odd numbers from 1 to 100 using list comprehension\n",
    "'''\n",
    "# code\n",
    "\n",
    "def oddnumber():\n",
    "    l4 = []\n",
    "    [l4.append(i) for i in range(1,100) if i%2 != 0]\n",
    "    return l4"
   ]
  },
  {
   "cell_type": "code",
   "execution_count": null,
   "metadata": {},
   "outputs": [],
   "source": [
    "oddnumber()"
   ]
  },
  {
   "cell_type": "code",
   "execution_count": 1,
   "metadata": {},
   "outputs": [
    {
     "name": "stdout",
     "output_type": "stream",
     "text": [
      "0\n",
      "1\n",
      "1\n",
      "2\n",
      "3\n",
      "5\n",
      "8\n",
      "13\n",
      "21\n",
      "34\n"
     ]
    }
   ],
   "source": [
    "'''\n",
    "Q7. Write a python program to print the first 10 Fibonacci numbers using a while loop.\n",
    "'''\n",
    "# code\n",
    "\n",
    "a, b = 0, 1\n",
    "i = 1\n",
    "while i<= 10 :\n",
    "    print(a) \n",
    "    a, b = b, a+b\n",
    "    i+=1"
   ]
  },
  {
   "cell_type": "code",
   "execution_count": 3,
   "metadata": {},
   "outputs": [],
   "source": [
    "'''\n",
    "Q8.  What is a generator function in python? Why yield keyword is used? Give an example of a generator\n",
    "function.\n",
    "Ans =  Generator Function allow you to define an iterative algorithm by writing a single \n",
    "function whose execution is not continuous,the yield keyword will convert an expression \n",
    "that is specified along with it to a generator object and return it to the caller.\n",
    "'''\n",
    "# code\n",
    "def fibonaci(n):\n",
    "    a, b = 0, 1\n",
    "    for i in range(n):\n",
    "        yield a\n",
    "        a, b = b, a+b"
   ]
  },
  {
   "cell_type": "code",
   "execution_count": 4,
   "metadata": {},
   "outputs": [
    {
     "name": "stdout",
     "output_type": "stream",
     "text": [
      "0\n",
      "1\n",
      "1\n",
      "2\n",
      "3\n",
      "5\n",
      "8\n",
      "13\n",
      "21\n",
      "34\n"
     ]
    }
   ],
   "source": [
    "for i in fibonaci(10):\n",
    "    print(i)"
   ]
  },
  {
   "cell_type": "code",
   "execution_count": 29,
   "metadata": {},
   "outputs": [],
   "source": [
    "'''\n",
    "Q5. Create a generator function for prime numbers less than 1000. Use the next() method to print the\n",
    "first 20 prime numbers.\n",
    "'''\n",
    "# code\n",
    "def prime_num(n):\n",
    "    count = 0\n",
    "    i = 2\n",
    "    while count <= n:\n",
    "        if i%2 !=0 and i%3 != 0 and i%5 != 0 and i%7 != 0:\n",
    "            yield i\n",
    "            count+=1\n",
    "            i+=1\n",
    "        elif i == 2 or i == 3 or i == 5 or i == 7:\n",
    "            yield i\n",
    "            count +=1\n",
    "            i +=1\n",
    "        else:\n",
    "            i+=1"
   ]
  },
  {
   "cell_type": "code",
   "execution_count": 32,
   "metadata": {},
   "outputs": [],
   "source": [
    "c = prime_num(20)"
   ]
  },
  {
   "cell_type": "code",
   "execution_count": 33,
   "metadata": {},
   "outputs": [
    {
     "name": "stdout",
     "output_type": "stream",
     "text": [
      "2\n",
      "3\n",
      "5\n",
      "7\n",
      "11\n",
      "13\n",
      "17\n",
      "19\n",
      "23\n",
      "29\n",
      "31\n",
      "37\n",
      "41\n",
      "43\n",
      "47\n",
      "53\n",
      "59\n",
      "61\n",
      "67\n",
      "71\n",
      "73\n"
     ]
    }
   ],
   "source": [
    "for i in c:\n",
    "    print(i)"
   ]
  },
  {
   "cell_type": "code",
   "execution_count": null,
   "metadata": {},
   "outputs": [],
   "source": []
  }
 ],
 "metadata": {
  "kernelspec": {
   "display_name": "Python 3",
   "language": "python",
   "name": "python3"
  },
  "language_info": {
   "codemirror_mode": {
    "name": "ipython",
    "version": 3
   },
   "file_extension": ".py",
   "mimetype": "text/x-python",
   "name": "python",
   "nbconvert_exporter": "python",
   "pygments_lexer": "ipython3",
   "version": "3.9.13"
  },
  "orig_nbformat": 4,
  "vscode": {
   "interpreter": {
    "hash": "ea025ab24354864a6e02f870f4879dba9163a8b30effc33a46aee923fb0e3c19"
   }
  }
 },
 "nbformat": 4,
 "nbformat_minor": 2
}
