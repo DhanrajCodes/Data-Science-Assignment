{
 "cells": [
  {
   "cell_type": "code",
   "execution_count": null,
   "metadata": {},
   "outputs": [],
   "source": [
    "'''\n",
    "Q1. What is Flask Framework? What are the advantages of Flask Framework?\n",
    "Ans- Flask is a web framework, it's a Python module that lets you develop web applications easily.\n",
    "It's has a small and easy-to-extend core: its a microframework that does'nt include an ORM or such \n",
    "features.\n",
    "    Advantage of flask :\n",
    "    flask is majorly preferred by data science enthusiasts to deploy machine learning models because\n",
    "    it gives freedom to implement your own rules and does not require much setup. Flask contains \n",
    "    various extensions using with you can give a dynamic look and take advantage of many functionalities.\n",
    "'''"
   ]
  },
  {
   "cell_type": "code",
   "execution_count": null,
   "metadata": {},
   "outputs": [],
   "source": [
    "'''\n",
    "Q.2 Create a simple Flask application to display \"Hello World!\". Attach the screenshot of the \n",
    "output in jupyter notebook.\n",
    "Ans - code\n",
    "    from flask import Flask\n",
    "    app = Flask(__name__)\n",
    "    @app.route(\"/hello_world\")\n",
    "    def hello_world():\n",
    "        return \"<h1>hello world</h1>\"\n",
    "    if __name__ == \"__main__\":\n",
    "    app.run(debug=True )\n",
    "'''\n"
   ]
  },
  {
   "attachments": {
    "image.png": {
     "image/png": "[encoded data removed]"
    }
   },
   "cell_type": "markdown",
   "metadata": {},
   "source": [
    "![image.png](attachment:image.png)"
   ]
  },
  {
   "cell_type": "code",
   "execution_count": null,
   "metadata": {},
   "outputs": [],
   "source": [
    "'''\n",
    "Q3. What is App routing in flask? why do we use app routes?\n",
    "Ans- App routing is used to map the specific URL with the associated function that is inteded to\n",
    "perform some task. It is used to access some particular page like Flask Tutorial in the Web \n",
    "appication.\n",
    "'''"
   ]
  },
  {
   "cell_type": "code",
   "execution_count": null,
   "metadata": {},
   "outputs": [],
   "source": [
    "'''\n",
    "Q4. Create a \"/welcome\" route to display the welcome message \"Welcome to ABC Corporation\" and a \"/\" route to show the following details:\n",
    "Company Name: ABC Corporation \n",
    "Location: India\n",
    "Contact Detail: 999-999-9999\n",
    "Attach the screenshot of the output in Jupyter Notebook.\n",
    "Ans - code\n",
    "    from flask import Flask\n",
    "    app = Flask(__name__)\n",
    "    @app.route(\"/welcome\")\n",
    "    def welcome:\n",
    "        return \"<h1>Welcome to ABC Corporation</h1>\"\n",
    "    if __name__ == \"__main__\":\n",
    "    app.run(debug=True )\n",
    "'''"
   ]
  },
  {
   "attachments": {
    "image.png": {
     "image/png": "[encoded data removed]"
    }
   },
   "cell_type": "markdown",
   "metadata": {},
   "source": [
    "![image.png](attachment:image.png)"
   ]
  },
  {
   "cell_type": "code",
   "execution_count": null,
   "metadata": {},
   "outputs": [],
   "source": [
    "'''\n",
    "Q5. What function is used in flask for URL Building? Write a Python code to demonstrate the working of the url_for() function.\n",
    "Ans- To build a URL to a specific function, use the url_for() function. It accepts the name of \n",
    "the function as its first argument and any number of keyword arguments, each corresponding to a \n",
    "variable part of the URL rule.\n",
    "code-\n",
    "from flask import url_for\n",
    "\n",
    "@app.route('/')\n",
    "def index():\n",
    "    return 'index'\n",
    "\n",
    "@app.route('/login')\n",
    "def login():\n",
    "    return 'login'\n",
    "\n",
    "@app.route('/user/<username>')\n",
    "def profile(username):\n",
    "    return f'{username}\\'s profile'\n",
    "\n",
    "with app.test_request_context():\n",
    "    print(url_for('index'))\n",
    "    print(url_for('login'))\n",
    "    print(url_for('login', next='/'))\n",
    "    print(url_for('profile', username='John Doe'))\n",
    "'''"
   ]
  }
 ],
 "metadata": {
  "language_info": {
   "name": "python"
  },
  "orig_nbformat": 4
 },
 "nbformat": 4,
 "nbformat_minor": 2
}
