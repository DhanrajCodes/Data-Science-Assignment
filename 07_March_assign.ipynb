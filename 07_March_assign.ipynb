{
 "cells": [
  {
   "attachments": {},
   "cell_type": "markdown",
   "metadata": {},
   "source": [
    "Q1. What are the three measures of central tendency?\n",
    "\n",
    "Ans: The three measures of central tendency are:\n",
    "Mean, Median and Mode."
   ]
  },
  {
   "attachments": {},
   "cell_type": "markdown",
   "metadata": {},
   "source": [
    "Q2. What is the difference between the mean, median, and mode? How are they used to measure the central tendency of a dataset?\n",
    "\n",
    "Ans: The mean is the average of all the values in a dataset. The median is the middle value in a sorted dataset. The mode is the most common value in a dataset. The mean is used to measure the central tendency of a dataset when the data is normally distributed. The median is used to measure the central tendency of a dataset when the data is skewed. The mode is used to measure the central tendency of a dataset when the data is categorical."
   ]
  },
  {
   "attachments": {},
   "cell_type": "markdown",
   "metadata": {},
   "source": [
    "Q3. Measure the three measures of central tendency for the given height data:\n",
    "\n",
    " [178,177,176,177,178.2,178,175,179,180,175,178.9,176.2,177,172.5,178,176.5]\n",
    "\n",
    "Ans: The mean is 177.05, the median is 177, and the mode is 178."
   ]
  },
  {
   "attachments": {},
   "cell_type": "markdown",
   "metadata": {},
   "source": [
    "Q4. Find the standard deviation for the given data:\n",
    "\n",
    "[178,177,176,177,178.2,178,175,179,180,175,178.9,176.2,177,172.5,178,176.5]\n",
    "\n",
    "Ans: The standard deviation is 1.59."
   ]
  },
  {
   "attachments": {},
   "cell_type": "markdown",
   "metadata": {},
   "source": [
    "Q5. How are measures of dispersion such as range, variance, and standard deviation used to describe the spread of a dataset? Provide an example.\n",
    "\n",
    "Ans: The range is the difference between the largest and smallest values in a dataset. The variance is the average of the squared differences from the mean. The standard deviation is the square root of the variance. The range is used to describe the spread of a dataset when the data is normally distributed. The variance is used to describe the spread of a dataset when the data is skewed. The standard deviation is used to describe the spread of a dataset when the data is normally distributed."
   ]
  },
  {
   "attachments": {},
   "cell_type": "markdown",
   "metadata": {},
   "source": [
    "Q6. What is a Venn diagram?\n",
    "\n",
    "Ans: A Venn diagram is a diagram that shows all possible logical relations between a finite collection of different sets. Each set is represented by a circle. The area of the circle is proportional to the size of the set. The size of the intersection of two sets is represented by the area of the overlapping region of the circles."
   ]
  },
  {
   "attachments": {},
   "cell_type": "markdown",
   "metadata": {},
   "source": [
    "Q7. For the two given sets A = (2,3,4,5,6,7) & B = (0,2,6,8,10). Find:\n",
    "\n",
    "(i) \tA B\n",
    "\n",
    "(ii)\tA ⋃ B\n",
    "\n",
    "Ans: (i) A B = (2,6)\n",
    "(ii) A ⋃ B = (0,2,3,4,5,6,7,8,10)"
   ]
  },
  {
   "attachments": {},
   "cell_type": "markdown",
   "metadata": {},
   "source": [
    "Q8. What do you understand about skewness in data?\n",
    "\n",
    "Ans: Skewness is a measure of the asymmetry of the probability distribution of a real-valued random variable about its mean. The skewness value can be positive or negative, or undefined. A positive value of skewness indicates that there is more weight in the right tail of the distribution. A negative value of skewness indicates that there is more weight in the left tail of the distribution. A skewness value of zero indicates that the distribution is perfectly symmetrical."
   ]
  },
  {
   "attachments": {},
   "cell_type": "markdown",
   "metadata": {},
   "source": [
    "Q9. If a data is right skewed then what will be the position of median with respect to mean?\n",
    "\n",
    "Ans: The median will be to the left of the mean."
   ]
  },
  {
   "attachments": {},
   "cell_type": "markdown",
   "metadata": {},
   "source": [
    "Q10. Explain the difference between covariance and correlation. How are these measures used in statistical analysis?\n",
    "\n",
    "Ans: The covariance is a measure of the joint variability of two random variables. The correlation is a normalized measure of the covariance. The covariance is used to measure the relationship between two variables when the data is normally distributed. The correlation is used to measure the relationship between two variables when the data is skewed."
   ]
  },
  {
   "attachments": {},
   "cell_type": "markdown",
   "metadata": {},
   "source": [
    "Q11. What is the formula for calculating the sample mean? Provide an example calculation for a\n",
    "dataset.\n",
    "\n",
    "Ans: The formula for calculating the sample mean is:\n",
    " x̄ = ( Σ xi ) / n."
   ]
  },
  {
   "attachments": {},
   "cell_type": "markdown",
   "metadata": {},
   "source": [
    "Q12. For a normal distribution data what is the relationship between its measure of central tendency?\n",
    "\n",
    "Ans: The mean, median, and mode are all equal for a normal distribution."
   ]
  },
  {
   "attachments": {},
   "cell_type": "markdown",
   "metadata": {},
   "source": [
    "Q13. How is covariance different from correlation?\n",
    "\n",
    "Ans: The covariance is a measure of the joint variability of two random variables. The correlation is a normalized measure of the covariance."
   ]
  },
  {
   "attachments": {},
   "cell_type": "markdown",
   "metadata": {},
   "source": [
    "Q14. How do outliers affect measures of central tendency and dispersion? Provide an example.\n",
    "\n",
    "Ans- Outliers affect measures of central tendency and dispersion by skewing the data. For example, if the data is normally distributed, then the mean will be skewed by the presence of outliers."
   ]
  },
  {
   "cell_type": "markdown",
   "metadata": {},
   "source": []
  }
 ],
 "metadata": {
  "language_info": {
   "name": "python"
  },
  "orig_nbformat": 4
 },
 "nbformat": 4,
 "nbformat_minor": 2
}
