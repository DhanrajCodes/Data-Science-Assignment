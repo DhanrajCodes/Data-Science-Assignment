{
 "cells": [
  {
   "attachments": {},
   "cell_type": "markdown",
   "metadata": {},
   "source": [
    "Q1. Who developed the python programming language?\n",
    "\n",
    "Ans - Guido van Rossum developed the python programming language."
   ]
  },
  {
   "attachments": {},
   "cell_type": "markdown",
   "metadata": {},
   "source": [
    "Q2. Which types of Programming does Python support?\n",
    "\n",
    "Ans - Python is dynamically typed and garbage-collected. It supports multiple programming paradigms, including structured (particularly procedural), object-oriented and functional programming."
   ]
  },
  {
   "attachments": {},
   "cell_type": "markdown",
   "metadata": {},
   "source": [
    "Q3. Is Python case senstive when dealing with identifiers?\n",
    "\n",
    "Ans - Yes, Python is a case-sensitive language, i.e., it treats uppercase and lowercase characters differently. This applies to identifiers too."
   ]
  },
  {
   "attachments": {},
   "cell_type": "markdown",
   "metadata": {},
   "source": [
    "Q4. What is the correct extension of the Python file?\n",
    "\n",
    "Ans - The extensions for Python files are - . py"
   ]
  },
  {
   "attachments": {},
   "cell_type": "markdown",
   "metadata": {},
   "source": [
    "Q5. Is Python code complied or interpreted?\n",
    "\n",
    "Ans -  Python is an interpreted language"
   ]
  },
  {
   "attachments": {},
   "cell_type": "markdown",
   "metadata": {},
   "source": [
    "Q6. Name a few blocks of code used to define in Python language?\n",
    "\n",
    "Ans - A module, a function body, and a class definition. Each command typed interactively is a block."
   ]
  },
  {
   "attachments": {},
   "cell_type": "markdown",
   "metadata": {},
   "source": [
    "Q7. State a character used to give single-line comments in Python?\n",
    "\n",
    "Ans - We can write a single - line comment by adding a single # character before any statement or line of code."
   ]
  },
  {
   "attachments": {},
   "cell_type": "markdown",
   "metadata": {},
   "source": [
    "Q8. Mention function which can help us to find the version of python that we are currently working on?\n",
    "\n",
    "Ans - 1. using sys.version method.\n",
    "      2. using python_version() function.\n",
    "      3. using Python-V command."
   ]
  },
  {
   "attachments": {},
   "cell_type": "markdown",
   "metadata": {},
   "source": [
    "Q9. Python supports the creation of anonymous functions at runtime, using a construct called \n",
    "\n",
    "Ans - lambda"
   ]
  },
  {
   "attachments": {},
   "cell_type": "markdown",
   "metadata": {},
   "source": [
    "Q10. What does pip stand for python?\n",
    "\n",
    "Ans - pip installed packages"
   ]
  },
  {
   "attachments": {},
   "cell_type": "markdown",
   "metadata": {},
   "source": [
    "Q11.  Mention a few built - in function in python?\n",
    "\n",
    "Ans - 1. bin()\n",
    "      2. bool()\n",
    "      3. bytes()"
   ]
  },
  {
   "attachments": {},
   "cell_type": "markdown",
   "metadata": {},
   "source": [
    "Q12. What is the maximum possible length of an identifier in Python?\n",
    "\n",
    "Ans - An identifier can have a maximum length of 79 characters in Python"
   ]
  },
  {
   "attachments": {},
   "cell_type": "markdown",
   "metadata": {},
   "source": [
    "Q13. What are the benefits of using Python?\n",
    "\n",
    "Ans - Python are using in Data Science ,  Scientific and mathemetical Computing, Web development, Finance and trading, System automation and administration, computer graphics etc"
   ]
  },
  {
   "attachments": {},
   "cell_type": "markdown",
   "metadata": {},
   "source": [
    "Q14. How is memory managed in Python?\n",
    "\n",
    "Ans - Memory management in Python involves a private heap containing all Python objects and data structures. The management of this private heap is ensured internally by the Python memory manager."
   ]
  },
  {
   "attachments": {},
   "cell_type": "markdown",
   "metadata": {},
   "source": [
    "Q15. How to install Python on Windows and set path variables?\n",
    "\n",
    "Ans - From Python official website install Python according to Pc specification on Windows."
   ]
  },
  {
   "attachments": {},
   "cell_type": "markdown",
   "metadata": {},
   "source": [
    "Q16. Is indentation required in python?\n",
    "\n",
    "Ans - The indentation in Python important. Python uses indentation to indicate a block of code."
   ]
  }
 ],
 "metadata": {
  "language_info": {
   "name": "python"
  },
  "orig_nbformat": 4
 },
 "nbformat": 4,
 "nbformat_minor": 2
}
