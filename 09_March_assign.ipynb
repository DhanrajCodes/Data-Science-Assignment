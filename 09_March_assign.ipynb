{
 "cells": [
  {
   "attachments": {},
   "cell_type": "markdown",
   "metadata": {},
   "source": [
    "Q1: What are the Probability Mass Function (PMF) and Probability Density Function (PDF)? Explain with an example.\n",
    "\n",
    "Ans- A probability mass function (pmf) is a function over the sample space of a discrete random variable X which gives the probability that X is equal to a certain value.Ex- Rolling a dice\n",
    "\n",
    "Probability density functions are a statistical measure used to gauge the likely outcome of a discrete value (e.g., the price of a stock or ETF). PDFs are plotted on a graph typically resembling a bell curve, with the probability of the outcomes lying below the curve."
   ]
  },
  {
   "attachments": {},
   "cell_type": "markdown",
   "metadata": {},
   "source": [
    "Q2: What is Cumulative Density Function (CDF)? Explain with an example. Why CDF is used?\n",
    "\n",
    "Ans- The Cumulative Distribution Function (CDF) of a real-valued random variable X, evaluated at x, is the probability function that X will take a value less than or equal to x. It is used to describe the probability distribution of random variables in a table."
   ]
  },
  {
   "attachments": {},
   "cell_type": "markdown",
   "metadata": {},
   "source": [
    "Q3: What are some examples of situations where the normal distribution might be used as a model? Explain how the parameters of the normal distribution relate to the shape of the distribution.\n",
    "\n",
    "Ans- The normal distribution is a common probability distribution used in statistics to model real-world phenomena. It is also known as the Gaussian distribution or the bell curve distribution. Here are some examples of situations where the normal distribution might be used as a model:IQ scores: IQ scores also tend to follow a normal distribution, with most people having an average score and fewer people having either a very low or very high score.\n",
    "\n",
    "The normal distribution is characterized by two parameters: the mean and the standard deviation. The mean determines the center of the distribution, while the standard deviation determines its spread. The larger the standard deviation, the more spread out the distribution is, while the smaller the standard deviation, the more tightly clustered the distribution is around the mean.\n",
    "\n"
   ]
  },
  {
   "attachments": {},
   "cell_type": "markdown",
   "metadata": {},
   "source": [
    "Q4: Explain the importance of Normal Distribution. Give a few real-life examples of Normal\n",
    "Distribution. \n",
    "\n",
    "Ans- 1. It is the foundation of statistical inference: Normal distribution plays a key role in statistical inference, which is the process of using data to draw conclusions about a population. Many statistical tests and methods rely on the assumption that the data is normally distributed.\n",
    "\n",
    "2. It allows for accurate predictions: Normal distribution allows us to make accurate predictions and estimate probabilities based on the observed data. For example, in finance, normal distribution is used to model the distribution of stock prices, which allows investors to predict the likelihood of a particular event, such as a stock price increase or decrease.\n",
    "\n",
    "3. It helps in quality control: Normal distribution is often used in quality control to detect defects or anomalies in a manufacturing process. By analyzing the distribution of a quality metric, such as weight or length, it is possible to detect when the process is not operating normally.\n",
    "\n",
    "Blood pressure: Blood pressure measurements in a population tend to follow a normal distribution, with most people having a blood pressure close to the average and fewer people having extremely high or low blood pressure."
   ]
  },
  {
   "attachments": {},
   "cell_type": "markdown",
   "metadata": {},
   "source": [
    "Q5: What is Bernaulli Distribution? Give an Example. What is the difference between Bernoulli\n",
    "Distribution and Binomial Distribution?\n",
    "\n",
    "Ans- Bernoulli distribution is a probability distribution that describes the outcomes of a single binary event that can result in either success or failure, with a given probability of success. It is named after Swiss mathematician Jacob Bernoulli, who introduced the concept in the 17th century.\n",
    "\n",
    "An example of a Bernoulli distribution is the outcome of flipping a fair coin, where the event of getting heads can be considered a success with a probability of 0.5, and the event of getting tails can be considered a failure with a probability of 0.5. Another example is the probability of a patient recovering from a disease after taking a particular medication.\n",
    "\n",
    "The binomial distribution takes two parameters: the number of trials and the probability of success in each trial. It describes the probability of getting a certain number of successes in a fixed number of independent Bernoulli trials."
   ]
  },
  {
   "attachments": {},
   "cell_type": "markdown",
   "metadata": {},
   "source": [
    "Q6. Consider a dataset with a mean of 50 and a standard deviation of 10. If we assume that the dataset\n",
    "is normally distributed, what is the probability that a randomly selected observation will be greater\n",
    "than 60? Use the appropriate formula and show your calculations.\n",
    "\n",
    "Ans- We can use the standard normal distribution formula to calculate the probability that a randomly selected observation will be greater than 60, given that the mean is 50 and the standard deviation is 10:\n",
    "\n",
    "z = (x - μ) / σ\n",
    "\n",
    "where z is the standard normal score, x is the value we want to find the probability for (in this case, 60), μ is the population mean (50), and σ is the population standard deviation (10).\n",
    "\n",
    "Substituting the values, we get:\n",
    "\n",
    "z = (60 - 50) / 10\n",
    "z = 1\n",
    "\n",
    "We can then use a standard normal distribution table or calculator to find the probability associated with a z-score of 1. This probability corresponds to the area under the standard normal distribution curve to the right of the z-score.\n",
    "\n",
    "Using a standard normal distribution table or calculator, we find that the probability associated with a z-score of 1 is approximately 0.1587.\n",
    "\n",
    "Therefore, the probability that a randomly selected observation from a normally distributed dataset with a mean of 50 and a standard deviation of 10 will be greater than 60 is approximately 0.1587 or 15.87%."
   ]
  },
  {
   "attachments": {},
   "cell_type": "markdown",
   "metadata": {},
   "source": [
    "Q7: Explain uniform Distribution with an example\n",
    "\n",
    "Ans- uniform distribution refers to a type of probability distribution in which all outcomes are equally likely. A deck of cards has within it uniform distributions because the likelihood of drawing a heart, a club, a diamond, or a spade is equally likely."
   ]
  },
  {
   "attachments": {},
   "cell_type": "markdown",
   "metadata": {},
   "source": [
    "Q8: What is the z score? State the importance of the z score.\n",
    "\n",
    "Ans- The z-score shows the number of standard deviations a given data point lies from the mean. So, standard deviation must be calculated first because the z-score uses it to communicate a data point's variability."
   ]
  },
  {
   "attachments": {},
   "cell_type": "markdown",
   "metadata": {},
   "source": [
    "Q9: What is Central Limit Theorem? State the significance of the Central Limit Theorem.\n",
    "\n",
    "Ans- The CLT is a statistical theory that states that - if you take a sufficiently large sample size from a population with a finite level of variance, the mean of all samples from that population will be roughly equal to the population mean.\n",
    "\n",
    "Significance of Central Limit Theorem\n",
    "The CLT has several applications. Look at the places where you can use it.\n",
    "\n",
    "Political/election polling is a great example of how you can use CLT. These polls are used to estimate the number of people who support a specific candidate. You may have seen these results with confidence intervals on news channels. The CLT aids in this calculation."
   ]
  },
  {
   "attachments": {},
   "cell_type": "markdown",
   "metadata": {},
   "source": [
    "Q10: State the assumptions of the Central Limit Theorem.\n",
    "\n",
    "Ans- Before we move on further, it is important to understand the assumptions behind CLT:\n",
    "\n",
    "The data must adhere to the randomization rule. It needs to be sampled at random.\n",
    "The samples should be unrelated to one another. One sample should not impact the others.\n",
    "When taking samples without replacement, the sample size should not exceed 10% of the population.\n",
    "When the population is symmetric, a sample size of 30 is generally considered reasonable. "
   ]
  },
  {
   "cell_type": "markdown",
   "metadata": {},
   "source": []
  }
 ],
 "metadata": {
  "language_info": {
   "name": "python"
  },
  "orig_nbformat": 4
 },
 "nbformat": 4,
 "nbformat_minor": 2
}
