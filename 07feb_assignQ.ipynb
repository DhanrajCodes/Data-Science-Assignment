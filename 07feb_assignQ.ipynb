{
 "cells": [
  {
   "cell_type": "code",
   "execution_count": null,
   "metadata": {},
   "outputs": [],
   "source": [
    "'''\n",
    "Q1. You are writing code for a company. The requirement of the company is that you create a python function that will \n",
    "check whether the password entered by the user is correct or not.The function should take the password as input and \n",
    "return the string \"Valid Password\" if the entered password follows the below-given password guidelines else it should \n",
    "return \"Invalid Password\".\n",
    "Note : 1. The password should contain at least two uppercase letters and at least two lowercase letters.\n",
    "       2. The password should contain at least a number and three special characters.\n",
    "       3. The length of the password should be 10 characters long.\n",
    "'''\n",
    "# code\n",
    "password = input()\n",
    "count_lower = 0\n",
    "count_upper = 0\n",
    "count_num = 0\n",
    "length_password = len(password)\n",
    "if length_password >=10:\n",
    "    for i in password:\n",
    "        if i.islower():\n",
    "            count_lower+=1\n",
    "        elif i.isupper():\n",
    "            count_upper +=1\n",
    "        elif i.isnumeric():\n",
    "            count_num +=1\n",
    "    if count_upper >=2 and count_lower >= 2 and count_num >=1:\n",
    "        if length_password - (count_num + count_lower + count_upper) >= 3:\n",
    "            print('Valid Password')\n",
    "        else:\n",
    "            print('invalid password')\n",
    "    else:\n",
    "            print('invalid password')\n",
    "else:\n",
    "            print('invalid password')"
   ]
  },
  {
   "cell_type": "code",
   "execution_count": null,
   "metadata": {},
   "outputs": [],
   "source": [
    "'''\n",
    "Q2. Solve the below-give question using at least one of the following:\n",
    "1. Lambda function\n",
    "2. filter function\n",
    "3. Map function\n",
    "4. List comprehension\n",
    "'''\n",
    "# check if the string starts with a particular letter.\n",
    "string = 'i will become Data Scientist'\n",
    "if string.startswith('i'):\n",
    "    print('yes')\n",
    "else:\n",
    "    print('false')"
   ]
  },
  {
   "cell_type": "code",
   "execution_count": null,
   "metadata": {},
   "outputs": [],
   "source": [
    "# sort a list of tuple having fruit names and their quantity.[(\"mango\",99), (\"orange\",80),(\"grapes\",1000)]\n",
    "lot = [(\"mango\",99), (\"orange\",80), (\"grapes\",1000)]\n",
    "lot.sort(key= lambda x : x[0])\n",
    "lot"
   ]
  },
  {
   "cell_type": "code",
   "execution_count": null,
   "metadata": {},
   "outputs": [],
   "source": [
    "# find square of number from 1 to 10\n",
    "l = [1,2,3,4,5,6,7,8,9,10]\n",
    "s = []\n",
    "s = list(map(lambda x : x*x , l))\n",
    "print(s)\n"
   ]
  },
  {
   "cell_type": "code",
   "execution_count": null,
   "metadata": {},
   "outputs": [],
   "source": [
    "# find the cube root of number from 1 to 10\n",
    "from numpy import cbrt\n",
    "li = [1,2,3,4,5,6,7,8,9,10]\n",
    "cr = []\n",
    "cr = list(map(lambda x : cbrt(x),li))\n",
    "print(cr)"
   ]
  },
  {
   "cell_type": "code",
   "execution_count": null,
   "metadata": {},
   "outputs": [],
   "source": [
    "# check if given number is even\n",
    "num = 10\n",
    "if num %2 ==0:\n",
    "    print(\"even\")\n",
    "else:\n",
    "    print(\"odd\")"
   ]
  },
  {
   "cell_type": "code",
   "execution_count": null,
   "metadata": {},
   "outputs": [],
   "source": [
    "# filter odd number from the given list.[1,2,3,4,5,6,7,8,9,10]\n",
    "lis = [1,2,3,4,5,6,7,8,9,10]\n",
    "even = []\n",
    "even  = list(filter(lambda x : x%2 ==0 ,lis))\n",
    "even"
   ]
  },
  {
   "cell_type": "code",
   "execution_count": null,
   "metadata": {},
   "outputs": [],
   "source": [
    "lisst = [1,2,3,4,5,6,-1,-2,-3,-4,-5,0]\n",
    "lisst.sort()\n",
    "lisst"
   ]
  },
  {
   "cell_type": "code",
   "execution_count": null,
   "metadata": {},
   "outputs": [],
   "source": [
    "# check if the string is numeric\n",
    "st = \"1234\"\n",
    "if st.isnumeric():\n",
    "    print(\"yes\")\n",
    "else:\n",
    "    print(\"no\")"
   ]
  }
 ],
 "metadata": {
  "kernelspec": {
   "display_name": "base",
   "language": "python",
   "name": "python3"
  },
  "language_info": {
   "codemirror_mode": {
    "name": "ipython",
    "version": 3
   },
   "file_extension": ".py",
   "mimetype": "text/x-python",
   "name": "python",
   "nbconvert_exporter": "python",
   "pygments_lexer": "ipython3",
   "version": "3.9.12"
  },
  "orig_nbformat": 4
 },
 "nbformat": 4,
 "nbformat_minor": 2
}
