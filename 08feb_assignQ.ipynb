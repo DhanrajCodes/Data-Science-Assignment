{
 "cells": [
  {
   "cell_type": "code",
   "execution_count": null,
   "metadata": {},
   "outputs": [],
   "source": [
    "'''\n",
    "What is Abstraction in Oops? Explain with an example.\n",
    "Ans -  Abstraction in python is defined as a process of handling complexity by hiding unnecessary information from the user. This is one of the core concepts of object-oriented programming languages\n",
    "'''\n",
    "from abc import ABC, abstractclassmethod\n",
    "\n",
    "class class1(ABC):\n",
    "    \n",
    "    @abstractclassmethod\n",
    "    def student(self):\n",
    "        pass"
   ]
  },
  {
   "cell_type": "code",
   "execution_count": null,
   "metadata": {},
   "outputs": [],
   "source": [
    "class class2(class1):\n",
    "    def student(self):\n",
    "        print(\"Hi , I'm Data Scientist\")"
   ]
  },
  {
   "cell_type": "code",
   "execution_count": null,
   "metadata": {},
   "outputs": [],
   "source": [
    "class class3(class2):\n",
    "    def student(self):\n",
    "        print(\"Hi, I'm Machine Learning Engineer\")"
   ]
  },
  {
   "cell_type": "code",
   "execution_count": null,
   "metadata": {},
   "outputs": [],
   "source": [
    "c = class3()"
   ]
  },
  {
   "cell_type": "code",
   "execution_count": null,
   "metadata": {},
   "outputs": [],
   "source": [
    "c.student()"
   ]
  },
  {
   "cell_type": "code",
   "execution_count": null,
   "metadata": {},
   "outputs": [],
   "source": [
    "'''\n",
    "Q2. Difference between Abstraction and Encapsulation. Explain with an example.\n",
    "Ans- Abstraction is to hide unwanted data. Abstraction is the outer layout that is used in terms of design.\n",
    "    Encapsulation is to hide the code and data into a single unit so that the outside world can't acccess it.\n",
    "    Encapsilation is the inner layout used in terms of implementation.\n",
    "'''\n",
    "# Abstraction code\n",
    "from abc import ABC, abstractclassmethod\n",
    "\n",
    "class classes1:\n",
    "    @abstractclassmethod\n",
    "    def coder(self):\n",
    "        pass"
   ]
  },
  {
   "cell_type": "code",
   "execution_count": null,
   "metadata": {},
   "outputs": [],
   "source": [
    "class classes2(classes1):\n",
    "    def coder(self):\n",
    "        print(\"yes i'm coder\")"
   ]
  },
  {
   "cell_type": "code",
   "execution_count": null,
   "metadata": {},
   "outputs": [],
   "source": [
    "class classes3(classes2):\n",
    "    def coder(self):\n",
    "        print(\"i'm AI enginer\")"
   ]
  },
  {
   "cell_type": "code",
   "execution_count": null,
   "metadata": {},
   "outputs": [],
   "source": [
    "c = classes3()"
   ]
  },
  {
   "cell_type": "code",
   "execution_count": null,
   "metadata": {},
   "outputs": [],
   "source": [
    "c.coder()"
   ]
  },
  {
   "cell_type": "code",
   "execution_count": null,
   "metadata": {},
   "outputs": [],
   "source": [
    "# Encapsulation\n",
    "class programmer:\n",
    "    def __init__(self, Name, language, Experience):\n",
    "        self.__name = Name\n",
    "        self.__language = language\n",
    "        self.experience = Experience"
   ]
  },
  {
   "cell_type": "code",
   "execution_count": null,
   "metadata": {},
   "outputs": [],
   "source": [
    "p = programmer(\"semicolon\",\"Python\",2)"
   ]
  },
  {
   "cell_type": "code",
   "execution_count": null,
   "metadata": {},
   "outputs": [],
   "source": [
    "p._programmer__language"
   ]
  },
  {
   "cell_type": "code",
   "execution_count": null,
   "metadata": {},
   "outputs": [],
   "source": [
    "'''\n",
    "Q3. What is abc module in Python? why is it used?\n",
    "Ans- abc module provides the infrastructure for defining abstract base classes in Python.\n",
    "An abstract base class is therefore useful to describe abstract units of behaviors that can \n",
    "be shared by multiple classes.\n",
    "'''"
   ]
  },
  {
   "cell_type": "code",
   "execution_count": null,
   "metadata": {},
   "outputs": [],
   "source": [
    "'''\n",
    "Q4. How can we achieve data abstraction?\n",
    "Ans- In Python, abstraction can be achieved by having/using abstract classes and methods in our\n",
    "programs. Understanding Abstract Methods and Classes; An abstract method is a method that is \n",
    "declared, but does not contain implementation.\n",
    "'''"
   ]
  },
  {
   "cell_type": "code",
   "execution_count": null,
   "metadata": {},
   "outputs": [],
   "source": [
    "'''\n",
    "Q5. Can we create an instance of an abstract class? Explain your answer.\n",
    "Ans- Abstract classes cannot be instantiated,  but they can be subclassed. When an abstract class \n",
    "is subclassed, the subclass usually provides implementations for all of the abstract methods in \n",
    "its parent class. However, if it does not then the subclass must also be declared abstract.\n",
    "'''"
   ]
  }
 ],
 "metadata": {
  "kernelspec": {
   "display_name": "base",
   "language": "python",
   "name": "python3"
  },
  "language_info": {
   "codemirror_mode": {
    "name": "ipython",
    "version": 3
   },
   "file_extension": ".py",
   "mimetype": "text/x-python",
   "name": "python",
   "nbconvert_exporter": "python",
   "pygments_lexer": "ipython3",
   "version": "3.9.12"
  },
  "orig_nbformat": 4
 },
 "nbformat": 4,
 "nbformat_minor": 2
}
