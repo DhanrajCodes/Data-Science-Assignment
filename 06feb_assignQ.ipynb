{
 "cells": [
  {
   "cell_type": "code",
   "execution_count": null,
   "metadata": {},
   "outputs": [],
   "source": [
    "'''\n",
    "Q1. Create a function which will take a list as an argument and return the product of all the numbers after creating a flat list.\n",
    "use the below-given list as an argument for your function.\n",
    "list = [1,2,3,4,[44,55,66,True],False,(34,56,78,89,34),{1,2,3,3,2,1},{1:34,\"key2\":[55,67,78,89],4:(45,22,61,34)},[56,'data science'],'Machine Learning']\n",
    "'''\n",
    "# code\n",
    "from functools import reduce\n",
    "def product_of_number(lst):\n",
    "    flat_lst = []\n",
    "    for item in lst:\n",
    "        if isinstance(item,list) or isinstance(item,tuple) or isinstance(item, set):\n",
    "            flat_lst.extend(product_of_number(item))\n",
    "            \n",
    "        elif isinstance(item,bool):\n",
    "            pass\n",
    "        \n",
    "        elif isinstance(item, dict):               \n",
    "             flat_lst.extend(product_of_number(list(item.values())))\n",
    "             flat_lst.extend(product_of_number(list(item.keys())))\n",
    "             \n",
    "        elif isinstance(item, int) or isinstance(item, float):\n",
    "            flat_lst.append(item)\n",
    "            \n",
    "    return flat_lst"
   ]
  },
  {
   "cell_type": "code",
   "execution_count": null,
   "metadata": {},
   "outputs": [],
   "source": [
    "l = [1,2,3,4,[44,55,66,True],False,(34,56,78,89,34),{1,2,3,3,2,1},{1:34,\"key2\":[55,67,78,89],4:(45,22,61,34)},[56,'data science'],'Machine Learning']\n",
    "product = product_of_number(l)\n",
    "ll = reduce(lambda x, y: x*y,product)\n",
    "print(ll)\n"
   ]
  },
  {
   "cell_type": "code",
   "execution_count": 64,
   "metadata": {},
   "outputs": [
    {
     "name": "stdout",
     "output_type": "stream",
     "text": [
      "i$wznt$to$yexome$z$dztz$sxientist\n"
     ]
    }
   ],
   "source": [
    "'''\n",
    "Write a python program for encrypting a message sent to you by your friend. The logic of encryption should be such that,\n",
    "for a the output should be z. For b the output should be y. For c the output should be x respectively. Also the whitespace\n",
    "should be replaced with a dollar sign. Keep the punctuation marks unchanged.\n",
    "input - I want to become a Data Scientist.\n",
    "Encrypt the above input sentence using the program you just created.\n",
    "'''\n",
    "# code\n",
    "sentence = 'I want to become a Data Scientist'\n",
    "new = \"\"\n",
    "for i in sentence.lower():\n",
    "    if i == 'a':\n",
    "        new = new + 'z'\n",
    "    elif i == 'b':\n",
    "        new = new + 'y'\n",
    "    elif i == 'c':\n",
    "        new = new + 'x'\n",
    "    elif i == ' ':\n",
    "        new = new + '$'\n",
    "    else :\n",
    "        new = new + i\n",
    "print(new)"
   ]
  }
 ],
 "metadata": {
  "kernelspec": {
   "display_name": "base",
   "language": "python",
   "name": "python3"
  },
  "language_info": {
   "codemirror_mode": {
    "name": "ipython",
    "version": 3
   },
   "file_extension": ".py",
   "mimetype": "text/x-python",
   "name": "python",
   "nbconvert_exporter": "python",
   "pygments_lexer": "ipython3",
   "version": "3.9.12"
  },
  "orig_nbformat": 4
 },
 "nbformat": 4,
 "nbformat_minor": 2
}
