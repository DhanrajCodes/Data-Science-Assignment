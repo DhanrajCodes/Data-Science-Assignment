{
 "cells": [
  {
   "attachments": {},
   "cell_type": "markdown",
   "metadata": {},
   "source": [
    "Q1. What is Statistics?\n",
    "\n",
    "Ans- Statistics Definition: Statistics is a branch that deals with every aspect of the data. Statistical knowledge helps to choose the proper method of collecting the data and employ those samples in the correct analysis process in order to effectively produce the results."
   ]
  },
  {
   "attachments": {},
   "cell_type": "markdown",
   "metadata": {},
   "source": [
    "Q2. Define the different types of statistics and give an example of when each type might be used.\n",
    "\n",
    "Ans- Descriptive Statistics: Descriptive statistics is a branch of statistics that deals with the collection, organization, and presentation of data. It is used to summarize and describe the characteristics of a given data set. It is used to describe the data in a meaningful way.\n",
    "e.g. mean, median, mode, range, variance, standard deviation, etc.\n",
    "\n",
    "Inferential Statistics: Inferential statistics is a branch of statistics that deals with the collection, organization, and presentation of data. It is used to summarize and describe the characteristics of a given data set. It is used to describe the data in a meaningful way.\n",
    "e.g sample data and popluation data, sampling distribution, confidence interval, hypothesis testing, etc."
   ]
  },
  {
   "attachments": {},
   "cell_type": "markdown",
   "metadata": {},
   "source": [
    "Q3. What are the different types of data and how do they differ from each other? Provide an example of\n",
    "each type of data.\n",
    "\n",
    "Ans- Data is defined as a systematic record corresponding to a specific quantity. Basically, data can be summarised as a set of facts and figures which can be used to serve a specific usage or purpose. For instance, data can be used as a survey or an analysis. Data in a systematic and organized form is referred to as information. In addition to this, the source of data primary or secondary is also an essential factor.\n",
    "\n",
    "Types of Data:Qualitative Data: Qualitative data is a type of data that is used to describe a characteristic of an object. It is a non-numerical data.\n",
    "\n",
    "Quantitative Data: Quantitative data is a type of data that is used to describe a characteristic of an object. It is a numerical data."
   ]
  },
  {
   "attachments": {},
   "cell_type": "markdown",
   "metadata": {},
   "source": [
    "Q4. Categorise the following datasets with respect to quantitative and qualitative data types:\n",
    "(i) Grading in exam: A+, A, B+, B, C+, C, D, E\n",
    "(ii) Colour of mangoes: yellow, green, orange, red\n",
    "(iii) Height data of a class: [178.9, 179, 179.5, 176, 177.2, 178.3, 175.8,...]\n",
    "(iv) Number of mangoes exported by a farm: [500, 600, 478, 672, ...]\n",
    "\n",
    "Ans- (i) Qualitative Data\n",
    "(ii) Qualitative Data\n",
    "(iii) Quantitative Data\n",
    "(iv) Quantitative Data"
   ]
  },
  {
   "attachments": {},
   "cell_type": "markdown",
   "metadata": {},
   "source": [
    "Q5. Explain the concept of levels of measurement and give an example of a variable for each level.\n",
    "\n",
    "Ans- Levels of Measurement: Levels of measurement are the different ways in which data can be measured. There are four levels of measurement: nominal, ordinal, interval, and ratio. The level of measurement is the most important factor in determining the type of statistical analysis that can be performed on a variable."
   ]
  },
  {
   "attachments": {},
   "cell_type": "markdown",
   "metadata": {},
   "source": [
    "Q6. Why is it important to understand the level of measurement when analyzing data? Provide an\n",
    "example to illustrate your answer.\n",
    "\n",
    "Ans- It is important to understand the level of measurement when analyzing data because it helps to determine the type of statistical analysis that can be performed on a variable."
   ]
  },
  {
   "attachments": {},
   "cell_type": "markdown",
   "metadata": {},
   "source": [
    "Q7. How nominal data type is different from ordinal data type.\n",
    "\n",
    "Ans- Nominal data is a group of non-parametric variables, whereas Ordinal data is a group of non-parametric ordered variables. Ordinal data is analyzed by mode, median, quartiles, and percentile, whereas nominal data is analyzed by grouping variables into categories and calculating the distribution mode.\n",
    "\n"
   ]
  },
  {
   "attachments": {},
   "cell_type": "markdown",
   "metadata": {},
   "source": [
    "Q8. Which type of plot can be used to display data in terms of range?\n",
    "\n",
    "Ans- Histogram"
   ]
  },
  {
   "attachments": {},
   "cell_type": "markdown",
   "metadata": {},
   "source": [
    "Q9. Describe the difference between descriptive and inferential statistics. Give an example of each\n",
    "type of statistics and explain how they are used.\n",
    "\n",
    "Ans- Descriptive Statistics: Descriptive statistics is a branch of statistics that deals with the collection, organization, and presentation of data.\n",
    "\n",
    "Inferential Statistics: It consist of the methods used to draw conclusions about a population from a sample."
   ]
  },
  {
   "attachments": {},
   "cell_type": "markdown",
   "metadata": {},
   "source": [
    "Q10. What are some common measures of central tendency and variability used in statistics? Explain\n",
    "how each measure can be used to describe a dataset.\n",
    "\n",
    "Ans- Measures of Central Tendency: Measures of central tendency are the values that are used to describe a set of data by identifying the central position within that set of data. The three measures of central tendency are the mean, median, and mode."
   ]
  }
 ],
 "metadata": {
  "kernelspec": {
   "display_name": "base",
   "language": "python",
   "name": "python3"
  },
  "language_info": {
   "codemirror_mode": {
    "name": "ipython",
    "version": 3
   },
   "file_extension": ".py",
   "mimetype": "text/x-python",
   "name": "python",
   "nbconvert_exporter": "python",
   "pygments_lexer": "ipython3",
   "version": "3.9.12"
  },
  "orig_nbformat": 4
 },
 "nbformat": 4,
 "nbformat_minor": 2
}
