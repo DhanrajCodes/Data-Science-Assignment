{
 "cells": [
  {
   "cell_type": "code",
   "execution_count": 6,
   "metadata": {},
   "outputs": [
    {
     "name": "stdout",
     "output_type": "stream",
     "text": [
      "Function running\n"
     ]
    }
   ],
   "source": [
    "'''\n",
    "Q1. Explain Class and Object with respect to Object-Oriented Programming. Give a suitable example.\n",
    "Ans - Classes are user-defined data types that act as the blueprint for individual objects,\n",
    "    attributes and methods. Objects are instances of a class created with specifically defined data\n",
    "'''\n",
    "# code\n",
    "class class1 :\n",
    "    def function1(self):\n",
    "        print(\"Function running\")\n",
    "    \n",
    "obj = class1()\n",
    "obj.function1()"
   ]
  },
  {
   "cell_type": "code",
   "execution_count": null,
   "metadata": {},
   "outputs": [],
   "source": [
    "'''\n",
    "Q2. Name the four pillars of OOPs.\n",
    "Ans - These four pillars are Inheritance, Polymorphism, Encapsulation and Abstraction\n",
    "'''"
   ]
  },
  {
   "cell_type": "code",
   "execution_count": 11,
   "metadata": {},
   "outputs": [],
   "source": [
    "'''\n",
    "Q3. Explain why the __init__() function is used. Give a suitable example.\n",
    "Ans - The __init__ function is called every time an object is created from \n",
    "    a class. The __init__ method lets the class initialize the object's attributes\n",
    "    and serves no other purpose. It is only used within classes.\n",
    "'''\n",
    "# code\n",
    "class class2 :\n",
    "    def __init__(self,n):\n",
    "        self.number = n\n",
    "    def return_value(self):\n",
    "        return self.number"
   ]
  },
  {
   "cell_type": "code",
   "execution_count": 14,
   "metadata": {},
   "outputs": [
    {
     "name": "stdout",
     "output_type": "stream",
     "text": [
      "100\n"
     ]
    }
   ],
   "source": [
    "obj1 = class2(100)\n",
    "print(obj1.return_value())"
   ]
  },
  {
   "cell_type": "code",
   "execution_count": null,
   "metadata": {},
   "outputs": [],
   "source": [
    "'''\n",
    "Q4. Why self is used in OOPs?\n",
    "Ans - The self variable is used to represent the instance of the class which \n",
    "is often used in object-oriented programming. It works as a reference to the \n",
    "object. Python uses the self parameter to refer to instance attributes and methods \n",
    "of the class.\n",
    "'''"
   ]
  },
  {
   "cell_type": "code",
   "execution_count": 25,
   "metadata": {},
   "outputs": [],
   "source": [
    "'''\n",
    "Q5. What is inheritance? Give an example for each type of inheritance.\n",
    "Ans - Inheritance allows us to define a class that inherits all the methods and \n",
    "properties from another class. Parent class is the class being inherited from, \n",
    "also called base class. Child class is the class that inherits from another class,\n",
    "also called derived class.\n",
    "'''\n",
    "# code\n",
    "# Single Ingeritance\n",
    "\n",
    "class single_inh:\n",
    "    def func1(self) :\n",
    "        return \"Single_inheritance\"\n",
    "    \n",
    "class single_inh1(single_inh):\n",
    "    def func2(self):\n",
    "        return \"Single_inh1\""
   ]
  },
  {
   "cell_type": "code",
   "execution_count": 27,
   "metadata": {},
   "outputs": [
    {
     "data": {
      "text/plain": [
       "'Single_inheritance'"
      ]
     },
     "execution_count": 27,
     "metadata": {},
     "output_type": "execute_result"
    }
   ],
   "source": [
    "object1 = single_inh1()\n",
    "object1.func1()"
   ]
  },
  {
   "attachments": {},
   "cell_type": "markdown",
   "metadata": {},
   "source": [
    "Multiple Inheritance"
   ]
  },
  {
   "cell_type": "code",
   "execution_count": 45,
   "metadata": {},
   "outputs": [],
   "source": [
    "# Multiple Inheritance\n",
    "\n",
    "class Employee:\n",
    "    proCoder = 5\n",
    "        \n",
    "class programmer:\n",
    "    progamer = 3\n",
    "        \n",
    "class Info(Employee, programmer):\n",
    "    Coder = 5\n",
    "    "
   ]
  },
  {
   "cell_type": "code",
   "execution_count": 46,
   "metadata": {},
   "outputs": [],
   "source": [
    "obj4 = Info()"
   ]
  },
  {
   "cell_type": "code",
   "execution_count": 47,
   "metadata": {},
   "outputs": [
    {
     "data": {
      "text/plain": [
       "5"
      ]
     },
     "execution_count": 47,
     "metadata": {},
     "output_type": "execute_result"
    }
   ],
   "source": [
    "obj4.proCoder"
   ]
  },
  {
   "attachments": {},
   "cell_type": "markdown",
   "metadata": {},
   "source": [
    "Multilevel Inheritance"
   ]
  },
  {
   "cell_type": "code",
   "execution_count": 48,
   "metadata": {},
   "outputs": [],
   "source": [
    "# Multilevel Inheritance\n",
    "class webdev:\n",
    "    country = 'India'\n",
    "\n",
    "class AppDev(webdev):\n",
    "    company = 'microsoft'\n",
    "\n",
    "class ML(AppDev):\n",
    "    coolCoder = 'many'"
   ]
  },
  {
   "cell_type": "code",
   "execution_count": 49,
   "metadata": {},
   "outputs": [
    {
     "data": {
      "text/plain": [
       "'India'"
      ]
     },
     "execution_count": 49,
     "metadata": {},
     "output_type": "execute_result"
    }
   ],
   "source": [
    "brogammer = ML()\n",
    "brogammer.country"
   ]
  }
 ],
 "metadata": {
  "kernelspec": {
   "display_name": "base",
   "language": "python",
   "name": "python3"
  },
  "language_info": {
   "codemirror_mode": {
    "name": "ipython",
    "version": 3
   },
   "file_extension": ".py",
   "mimetype": "text/x-python",
   "name": "python",
   "nbconvert_exporter": "python",
   "pygments_lexer": "ipython3",
   "version": "3.9.12"
  },
  "orig_nbformat": 4
 },
 "nbformat": 4,
 "nbformat_minor": 2
}
